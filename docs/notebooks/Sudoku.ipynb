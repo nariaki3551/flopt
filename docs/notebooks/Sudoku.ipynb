{
 "cells": [
  {
   "cell_type": "markdown",
   "id": "fa1b392c",
   "metadata": {},
   "source": [
    "# Case Studies"
   ]
  },
  {
   "cell_type": "markdown",
   "id": "b598bce3",
   "metadata": {},
   "source": [
    "## [Sudoku](https://flopt.readthedocs.io/en/latest/case_studies/sudoku.html)"
   ]
  },
  {
   "cell_type": "markdown",
   "id": "e6658670",
   "metadata": {},
   "source": [
    "### Problem of Sudoku"
   ]
  },
  {
   "cell_type": "markdown",
   "id": "31274136",
   "metadata": {},
   "source": [
    "```\n",
    "     0 1 2   3 4 5   6 7 8\n",
    "   +-------+-------+-------+\n",
    "0  |       |       |   1   |\n",
    "1  | 4     |       |       |\n",
    "2  |   2   |       |       |\n",
    "   +-------+-------+-------+\n",
    "3  |       |   5   | 4   7 |\n",
    "4  |     8 |       | 3     |\n",
    "5  |     1 |   9   |       |\n",
    "   +-------+-------+-------+\n",
    "6  | 3     | 4     | 2     |\n",
    "7  |   5   | 1     |       |\n",
    "8  |       | 8   6 |       |\n",
    "   +-------+-------+-------+\n",
    "```"
   ]
  },
  {
   "cell_type": "code",
   "execution_count": null,
   "id": "b7fd3c13",
   "metadata": {},
   "outputs": [],
   "source": [
    "# problem format\n",
    "hints = [\n",
    "    # value, row, col\n",
    "    (1, 0, 7), (4, 1, 0), (2, 2, 1), (5, 3, 4), (4, 3, 6),\n",
    "    (7, 3, 8), (8, 4, 2), (3, 4, 6), (1, 5, 2), (9, 5, 4),\n",
    "    (3, 6, 0), (4, 6, 3), (2, 6, 6), (5, 7, 1), (1, 7, 3),\n",
    "    (8, 8, 3), (6, 8, 5),\n",
    "]"
   ]
  },
  {
   "cell_type": "markdown",
   "id": "d95fa4c0",
   "metadata": {},
   "source": [
    "### Build optimization problem"
   ]
  },
  {
   "cell_type": "code",
   "execution_count": null,
   "id": "0b8a96c0",
   "metadata": {},
   "outputs": [],
   "source": [
    "import flopt"
   ]
  },
  {
   "cell_type": "code",
   "execution_count": null,
   "id": "458c0030",
   "metadata": {},
   "outputs": [],
   "source": [
    "# A list of number sequence\n",
    "Sequence = list(range(9))\n",
    "Vals = Sequence\n",
    "Rows = Sequence\n",
    "Cols = Sequence"
   ]
  },
  {
   "cell_type": "code",
   "execution_count": null,
   "id": "cee7f41a",
   "metadata": {},
   "outputs": [],
   "source": [
    "# The problem variables\n",
    "x = flopt.Variable.array(\"x\", (9, 9, 9), cat='Binary', ini_value=0)"
   ]
  },
  {
   "cell_type": "code",
   "execution_count": null,
   "id": "f8037de4",
   "metadata": {},
   "outputs": [],
   "source": [
    "# The starting numbers are entered as constant\n",
    "for value, row, col in hints:\n",
    "    x[value-1, row, col] = 1"
   ]
  },
  {
   "cell_type": "code",
   "execution_count": null,
   "id": "e515ae9c",
   "metadata": {},
   "outputs": [],
   "source": [
    "prob = flopt.Problem(\"Sudoku\")\n",
    "\n",
    "# A constraint ensuring that only one value can be in each piece\n",
    "for r in Rows:\n",
    "    for c in Cols:\n",
    "        prob += flopt.Sum(x[:, r, c]) == 1  # is equal to Sum(x[i, r, c] for i in Vals) == 1\n",
    "\n",
    "# The row, column and box constraints are added for each value\n",
    "for v in Vals:\n",
    "    for r in Rows:\n",
    "        prob += flopt.Sum(x[v, r, :]) == 1\n",
    "\n",
    "    for c in Cols:\n",
    "        prob += flopt.Sum(x[v, :, c]) == 1\n",
    "\n",
    "    for r in [0, 3, 6]:\n",
    "        for c in [0, 3, 6]:\n",
    "            prob += flopt.Sum(x[v, r:r+3, c:c+3]) == 1"
   ]
  },
  {
   "cell_type": "code",
   "execution_count": null,
   "id": "c7027cf2",
   "metadata": {},
   "outputs": [],
   "source": [
    "prob.show()"
   ]
  },
  {
   "cell_type": "code",
   "execution_count": null,
   "id": "324c298d",
   "metadata": {},
   "outputs": [],
   "source": [
    "solver = flopt.Solver('auto')\n",
    "prob.solve(solver, msg=True)"
   ]
  },
  {
   "cell_type": "code",
   "execution_count": null,
   "id": "0085ee01",
   "metadata": {},
   "outputs": [],
   "source": [
    "# display result\n",
    "row_line = \"+-------+-------+-------+\"\n",
    "print(row_line)\n",
    "for r in Rows:\n",
    "    if r in {3, 6}:\n",
    "        print(row_line)\n",
    "    for c in Cols:\n",
    "        if c in {0, 3, 6}:\n",
    "            print(\"| \", end=\"\")\n",
    "        for v in Vals:\n",
    "            if flopt.Value(x[v, r, c]) == 1:\n",
    "                print(f\"{v+1} \", end=\"\")\n",
    "        if c == 8:\n",
    "            print(\"|\")\n",
    "print(row_line)"
   ]
  }
 ],
 "metadata": {
  "kernelspec": {
   "display_name": "Python 3 (ipykernel)",
   "language": "python",
   "name": "python3"
  },
  "language_info": {
   "codemirror_mode": {
    "name": "ipython",
    "version": 3
   },
   "file_extension": ".py",
   "mimetype": "text/x-python",
   "name": "python",
   "nbconvert_exporter": "python",
   "pygments_lexer": "ipython3",
   "version": "3.10.6"
  },
  "toc": {
   "base_numbering": 1,
   "nav_menu": {},
   "number_sections": true,
   "sideBar": true,
   "skip_h1_title": false,
   "title_cell": "Table of Contents",
   "title_sidebar": "Contents",
   "toc_cell": false,
   "toc_position": {},
   "toc_section_display": true,
   "toc_window_display": false
  }
 },
 "nbformat": 4,
 "nbformat_minor": 5
}
