{
 "cells": [
  {
   "cell_type": "markdown",
   "id": "9375a2bb",
   "metadata": {},
   "source": [
    "# Number Partitioning"
   ]
  },
  {
   "cell_type": "markdown",
   "id": "6b9eaa76",
   "metadata": {},
   "source": [
    "We will solver the number partitioning problem. We try to find the partion of number set A to two groups, B and C, such that the summation of B and sum of C are equal."
   ]
  },
  {
   "cell_type": "code",
   "execution_count": null,
   "id": "da443a69",
   "metadata": {},
   "outputs": [],
   "source": [
    "# list of numbers\n",
    "A = [10, 8, 7, 9]"
   ]
  },
  {
   "cell_type": "markdown",
   "id": "33efadef",
   "metadata": {},
   "source": [
    "We use Spin variables $s$ to formulate this problem, which is\n",
    "\n",
    "\\begin{equation}\n",
    "s_i = \n",
    "\\left\\{\n",
    "    \\begin{aligned}\n",
    "    & +1 \\quad (i \\in B)\\\\\n",
    "    & -1 \\quad (i \\in C)\\\\\n",
    "    \\end{aligned}\n",
    "\\right.\n",
    "\\end{equation}\n",
    "\n",
    "Then, the difference of the summation of B and that of C can be represented by\n",
    "\n",
    "\\begin{align}\n",
    "\\sum_i a_i s_i\n",
    "\\end{align}\n",
    "\n",
    "Hence, by optimizing the spin variables that takes minimum value of $\\left(\\sum_i a_i s_i \\right)^2$, we can obtain the desired partitioning."
   ]
  },
  {
   "cell_type": "code",
   "execution_count": null,
   "id": "2234be8a",
   "metadata": {},
   "outputs": [],
   "source": [
    "import flopt"
   ]
  },
  {
   "cell_type": "markdown",
   "id": "f90760f7",
   "metadata": {},
   "source": [
    "We create spin variables."
   ]
  },
  {
   "cell_type": "code",
   "execution_count": null,
   "id": "b8e0b829",
   "metadata": {},
   "outputs": [],
   "source": [
    "# create variables\n",
    "s = flopt.Variable.array(\"s\", len(A), cat=\"Spin\", ini_value=1)\n",
    "print(s)"
   ]
  },
  {
   "cell_type": "markdown",
   "id": "14aab21e",
   "metadata": {},
   "source": [
    "Next, we create objective function."
   ]
  },
  {
   "cell_type": "code",
   "execution_count": null,
   "id": "b56ed8cd",
   "metadata": {},
   "outputs": [],
   "source": [
    "obj  = flopt.Dot(s, A) ** 2\n",
    "print(obj)"
   ]
  },
  {
   "cell_type": "markdown",
   "id": "b99c6ec4",
   "metadata": {},
   "source": [
    "Then, we create Problem"
   ]
  },
  {
   "cell_type": "code",
   "execution_count": null,
   "id": "b8a17b20",
   "metadata": {},
   "outputs": [],
   "source": [
    "# create problem\n",
    "prob = flopt.Problem(\"Number Partitioning\")\n",
    "\n",
    "# set objective function\n",
    "prob += obj\n",
    "\n",
    "print(prob)"
   ]
  },
  {
   "cell_type": "markdown",
   "id": "751b6f9f",
   "metadata": {},
   "source": [
    "## Solve using RandomSearch"
   ]
  },
  {
   "cell_type": "markdown",
   "id": "94233479",
   "metadata": {},
   "source": [
    "solve until obtain the solution whose objective value is lower than or equal to 0"
   ]
  },
  {
   "cell_type": "code",
   "execution_count": null,
   "id": "f9d8c9b5",
   "metadata": {},
   "outputs": [],
   "source": [
    "prob.solve(solver=\"Random\", msg=True, lowerbound=0, timelimit=1)"
   ]
  },
  {
   "cell_type": "markdown",
   "id": "44b24517",
   "metadata": {},
   "source": [
    "show obtained solution"
   ]
  },
  {
   "cell_type": "code",
   "execution_count": null,
   "id": "7979640c",
   "metadata": {},
   "outputs": [],
   "source": [
    "print(\"s =\", flopt.Value(s))"
   ]
  },
  {
   "cell_type": "markdown",
   "id": "84f10e6d",
   "metadata": {},
   "source": [
    "### Solve using LP Search"
   ]
  },
  {
   "cell_type": "markdown",
   "id": "52b9aa2a",
   "metadata": {},
   "source": [
    "To make sure we obtain the optimal solution, we can use LP Solver to convert problem after linearizing the problem.<br>\n",
    "First, we linearize the objective function and constraints by flopt.convert.linearize.<br>\n",
    "To linearize the product of spin variables, flopt replace spin variables to binary variables and add slack variables and constrains."
   ]
  },
  {
   "cell_type": "code",
   "execution_count": null,
   "id": "fb3b9246",
   "metadata": {},
   "outputs": [],
   "source": [
    "import flopt.convert\n",
    "\n",
    "flopt.convert.linearize(prob)\n",
    "\n",
    "prob.show()"
   ]
  },
  {
   "cell_type": "markdown",
   "id": "03d03554",
   "metadata": {},
   "source": [
    "Then, we solve the linearized problem."
   ]
  },
  {
   "cell_type": "code",
   "execution_count": null,
   "id": "f780d4d6",
   "metadata": {},
   "outputs": [],
   "source": [
    "prob.solve(solver=\"auto\", msg=True)"
   ]
  },
  {
   "cell_type": "markdown",
   "id": "c417c72f",
   "metadata": {},
   "source": [
    "Show the optimal solution"
   ]
  },
  {
   "cell_type": "code",
   "execution_count": null,
   "id": "67721cc9",
   "metadata": {},
   "outputs": [],
   "source": [
    "print(\"s= \", flopt.Value(s))"
   ]
  },
  {
   "cell_type": "markdown",
   "id": "fba4bbb7",
   "metadata": {},
   "source": [
    "## Convert another folumation of number partitioning"
   ]
  },
  {
   "cell_type": "markdown",
   "id": "cdd7403a",
   "metadata": {},
   "source": [
    "By using flopt.convert methods, we can obtain the data for another formulation of the number partitioning."
   ]
  },
  {
   "cell_type": "markdown",
   "id": "a647acef",
   "metadata": {},
   "source": [
    "### QP"
   ]
  },
  {
   "cell_type": "code",
   "execution_count": null,
   "id": "f529969f",
   "metadata": {},
   "outputs": [],
   "source": [
    "import flopt.convert\n",
    "\n",
    "s = flopt.Variable.array(\"x\", len(A), cat=\"Spin\")\n",
    "prob = flopt.Problem(\"Number Partitioning\")\n",
    "prob += flopt.Dot(s, A) ** 2\n",
    "\n",
    "# create QpStructure after binarize problem\n",
    "flopt.convert.binarize(prob)\n",
    "qp = flopt.convert.QpStructure.fromFlopt(prob)\n",
    "\n",
    "print(qp.show())"
   ]
  },
  {
   "cell_type": "markdown",
   "id": "cd073454",
   "metadata": {},
   "source": [
    "### Ising"
   ]
  },
  {
   "cell_type": "code",
   "execution_count": null,
   "id": "fd32d275",
   "metadata": {},
   "outputs": [],
   "source": [
    "ising = flopt.convert.IsingStructure.fromFlopt(prob)\n",
    "\n",
    "print(ising.show())"
   ]
  },
  {
   "cell_type": "markdown",
   "id": "21ce2acf",
   "metadata": {},
   "source": [
    "### Qubo"
   ]
  },
  {
   "cell_type": "code",
   "execution_count": null,
   "id": "0779d014",
   "metadata": {},
   "outputs": [],
   "source": [
    "qubo = flopt.convert.QuboStructure.fromFlopt(prob)\n",
    "\n",
    "print(qubo.show())"
   ]
  }
 ],
 "metadata": {
  "kernelspec": {
   "display_name": "Python 3 (ipykernel)",
   "language": "python",
   "name": "python3"
  },
  "language_info": {
   "codemirror_mode": {
    "name": "ipython",
    "version": 3
   },
   "file_extension": ".py",
   "mimetype": "text/x-python",
   "name": "python",
   "nbconvert_exporter": "python",
   "pygments_lexer": "ipython3",
   "version": "3.10.5"
  },
  "toc": {
   "base_numbering": 1,
   "nav_menu": {},
   "number_sections": true,
   "sideBar": true,
   "skip_h1_title": false,
   "title_cell": "Table of Contents",
   "title_sidebar": "Contents",
   "toc_cell": false,
   "toc_position": {},
   "toc_section_display": true,
   "toc_window_display": false
  }
 },
 "nbformat": 4,
 "nbformat_minor": 5
}
