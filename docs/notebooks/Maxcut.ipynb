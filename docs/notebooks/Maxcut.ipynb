{
 "cells": [
  {
   "cell_type": "markdown",
   "id": "c35f72d9",
   "metadata": {},
   "source": [
    "# Maximum-Cut"
   ]
  },
  {
   "cell_type": "markdown",
   "id": "2b384dbc",
   "metadata": {},
   "source": [
    "Maximum-Cut is the problem of maximizing the weights of edges between different groups when partitioning into two subsets in a given vertex set of graph."
   ]
  },
  {
   "cell_type": "markdown",
   "id": "fde40fc1",
   "metadata": {},
   "source": [
    "## Simple Example"
   ]
  },
  {
   "cell_type": "markdown",
   "id": "8fca15f3",
   "metadata": {},
   "source": [
    "First, let's we solve the maximum-cut of following simple graph."
   ]
  },
  {
   "cell_type": "code",
   "execution_count": null,
   "id": "705422eb",
   "metadata": {},
   "outputs": [],
   "source": [
    "data = \"\"\"5 6\n",
    "1 2 1\n",
    "1 4 1 \n",
    "2 3 1 \n",
    "2 4 1\n",
    "3 5 1\n",
    "4 5 1\n",
    "\"\"\"\n",
    "\n",
    "import networkx\n",
    "import matplotlib.pyplot as plt\n",
    "\n",
    "# create networkx graph\n",
    "G = networkx.Graph()\n",
    "f = iter(data.split(\"\\n\"))\n",
    "N, E = map(int, next(f).split())  # N is the number of vartexes, and E is the number of edges\n",
    "for e in range(E):\n",
    "    i, j, w = map(int, next(f).split())\n",
    "    G.add_edge(i, j, weight=w)\n",
    "\n",
    "# plot the graph\n",
    "fig, ax = plt.subplots()\n",
    "pos = {1: (0, 1), 2: (1, 2), 3: (2, 2), 4: (1, 0), 5: (2, 0)}\n",
    "networkx.draw_networkx(G, pos, with_labels=True, node_color=\"white\", edgecolors=\"black\")\n",
    "ax.set_title(\"Example simple Graph\")"
   ]
  },
  {
   "cell_type": "markdown",
   "id": "95209a8e",
   "metadata": {},
   "source": [
    "We divide these five vertexes into two groups, $S$ and $T$.<br>\n",
    "We create spin variables $s_i$ which takes +1 or -1 value corresponding to the vertex $i$ of the graph.\n",
    "\n",
    "\\begin{equation}\n",
    "s_i = \n",
    "\\left\\{\n",
    "    \\begin{aligned}\n",
    "    & +1 \\quad (i \\in S)\\\\\n",
    "    & -1 \\quad (i \\in T)\\\\\n",
    "    \\end{aligned}\n",
    "\\right.\n",
    "\\end{equation}\n",
    "\n",
    "Then, $(1 - s_i s_j)$ takes 0 when vertex $i$ and $j$ are belong to same group, and takes 1 when these vertexes are belongs to different groups.<br>\n",
    "Hence, the maximum cut problem is formulated as \n",
    "\n",
    "\\begin{align}\n",
    "    \\displaystyle \\max \\sum_{i < j} w_{i, j} (1 - s_i s_j), \n",
    "\\end{align}\n",
    "where $w_{i, j}$ is the weight of edge $(i, j)$."
   ]
  },
  {
   "cell_type": "markdown",
   "id": "612b480f",
   "metadata": {},
   "source": [
    "We will model this problem by flopt.<br>\n",
    "We, first, create the \"Spin\" variables."
   ]
  },
  {
   "cell_type": "code",
   "execution_count": null,
   "id": "679c52d0",
   "metadata": {},
   "outputs": [],
   "source": [
    "from flopt import Variable\n",
    "\n",
    "G = networkx.Graph()\n",
    "f = iter(data.split(\"\\n\"))\n",
    "N, E = map(int, next(f).split()) # N is the number of vartexes, and E is the number of edges\n",
    "\n",
    "s = Variable.array(\"s\", N, cat=\"Spin\", ini_value=1)\n",
    "print(s)"
   ]
  },
  {
   "cell_type": "markdown",
   "id": "024e77c2",
   "metadata": {},
   "source": [
    "Next, we create objective function."
   ]
  },
  {
   "cell_type": "code",
   "execution_count": null,
   "id": "a5fe1383",
   "metadata": {},
   "outputs": [],
   "source": [
    "obj = 0\n",
    "for e in range(E):\n",
    "    i, j, w = map(int, next(f).split())\n",
    "    obj += w * (1 - s[i-1] * s[j-1])\n",
    "    \n",
    "print(obj)"
   ]
  },
  {
   "cell_type": "markdown",
   "id": "5f61a249",
   "metadata": {},
   "source": [
    "Finally, we create problem object and solve it using \"Random\" solver."
   ]
  },
  {
   "cell_type": "code",
   "execution_count": null,
   "id": "3c4bc19f",
   "metadata": {},
   "outputs": [],
   "source": [
    "from flopt import Problem, Maximize\n",
    "\n",
    "# create problem\n",
    "prob = Problem(sense=Maximize)\n",
    "prob += obj\n",
    "\n",
    "# solve\n",
    "staus, log = prob.solve(solver=\"Random\", timelimit=1)"
   ]
  },
  {
   "cell_type": "code",
   "execution_count": null,
   "id": "a5ccd8a5",
   "metadata": {},
   "outputs": [],
   "source": [
    "from flopt import Value\n",
    "\n",
    "print(\"result = \", Value(s))"
   ]
  },
  {
   "cell_type": "code",
   "execution_count": null,
   "id": "3fe99266",
   "metadata": {},
   "outputs": [],
   "source": [
    "# plot the graph\n",
    "nodelist = [i+1 for i in range(N) if s[i].value() == 1]\n",
    "networkx.draw_networkx_nodes(G, pos, nodelist=nodelist, node_color=\"black\", ax=ax)\n",
    "ax.set_title(\"Result\")\n",
    "fig"
   ]
  },
  {
   "cell_type": "markdown",
   "id": "31e8484f",
   "metadata": {},
   "source": [
    "## Gset Benchmark"
   ]
  },
  {
   "cell_type": "markdown",
   "id": "79ef5816",
   "metadata": {},
   "source": [
    "Gset is the benchmark the maximize cut problem.<br>\n",
    "We can download the Gset benchmark as follows.\n",
    "\n",
    "shell code\n",
    "\n",
    "```bash\n",
    "mkdir Gset && cd Gset; for i in {1..81}; do wget http://web.stanford.edu/~yyye/yyye/Gset/G$1; done\n",
    "```"
   ]
  },
  {
   "cell_type": "code",
   "execution_count": null,
   "id": "d5ec3434",
   "metadata": {},
   "outputs": [],
   "source": [
    "!mkdir Gset && cd Gset; for i in {1..81}; do wget -q http://web.stanford.edu/~yyye/yyye/Gset/G$i; done"
   ]
  },
  {
   "cell_type": "code",
   "execution_count": null,
   "id": "c1b2befd",
   "metadata": {},
   "outputs": [],
   "source": [
    "# select problem\n",
    "file = \"./Gset/G11\""
   ]
  },
  {
   "cell_type": "code",
   "execution_count": null,
   "id": "ca8e9951",
   "metadata": {},
   "outputs": [],
   "source": [
    "from flopt import *\n",
    "\n",
    "def loader(f, n):\n",
    "    for i in range(n):\n",
    "        yield map(int, next(f).split())\n",
    "\n",
    "# load problem, and create spin variables and objective function\n",
    "with open(file, \"r\") as f:\n",
    "    N, E = map(int, next(f).split())\n",
    "    s = Variable.array(\"s\", N, cat=\"Spin\")\n",
    "    obj = 0.5 * Sum(w * (1 - s[i-1] * s[j-1]) for i, j, w in loader(f, E))\n",
    "    \n",
    "# create Problem\n",
    "prob = Problem(sense=Maximize)\n",
    "prob += obj\n",
    "\n",
    "prob.show()"
   ]
  },
  {
   "cell_type": "code",
   "execution_count": null,
   "id": "355e033b",
   "metadata": {},
   "outputs": [],
   "source": [
    "# select algorithm to search and solve\n",
    "status, log = prob.solve(solver=\"Random\", timelimit=10, msg=True)"
   ]
  },
  {
   "cell_type": "code",
   "execution_count": null,
   "id": "5e88939a",
   "metadata": {},
   "outputs": [],
   "source": [
    "# plot the transition of incumbent values\n",
    "fig, ax = log.plot(label=\"incumbents\", marker=\"o\", linestyle=\"--\")"
   ]
  },
  {
   "cell_type": "markdown",
   "id": "c42e92cc",
   "metadata": {},
   "source": [
    "## Convert another formulations"
   ]
  },
  {
   "cell_type": "markdown",
   "id": "050f7272",
   "metadata": {},
   "source": [
    "We can obtain the data for the another formulation using flopt.convert, for example ising structure.<br>\n",
    "\n",
    "minimize $- x^T J x - h^T x + C$"
   ]
  },
  {
   "cell_type": "code",
   "execution_count": null,
   "id": "5b45f11f",
   "metadata": {},
   "outputs": [],
   "source": [
    "import flopt.convert\n",
    "\n",
    "ising = flopt.convert.IsingStructure.fromFlopt(prob)\n",
    "print(ising.J)\n",
    "print(ising.h)\n",
    "print(ising.x)"
   ]
  },
  {
   "cell_type": "markdown",
   "id": "8d3027fb",
   "metadata": {},
   "source": [
    "When you have the solution by your algorithm or other applications, you can input the value to the spin variable of flopt."
   ]
  },
  {
   "cell_type": "code",
   "execution_count": null,
   "id": "0164168a",
   "metadata": {},
   "outputs": [],
   "source": [
    "values = [...]  # solution; list of values\n",
    "for var, value in zip(ising.x, values):\n",
    "    var.setValue(value)"
   ]
  }
 ],
 "metadata": {
  "kernelspec": {
   "display_name": "Python 3 (ipykernel)",
   "language": "python",
   "name": "python3"
  },
  "language_info": {
   "codemirror_mode": {
    "name": "ipython",
    "version": 3
   },
   "file_extension": ".py",
   "mimetype": "text/x-python",
   "name": "python",
   "nbconvert_exporter": "python",
   "pygments_lexer": "ipython3",
   "version": "3.10.5"
  },
  "toc": {
   "base_numbering": 1,
   "nav_menu": {},
   "number_sections": true,
   "sideBar": true,
   "skip_h1_title": false,
   "title_cell": "Table of Contents",
   "title_sidebar": "Contents",
   "toc_cell": false,
   "toc_position": {},
   "toc_section_display": true,
   "toc_window_display": false
  }
 },
 "nbformat": 4,
 "nbformat_minor": 5
}
