{
 "cells": [
  {
   "cell_type": "markdown",
   "id": "b3090d6b",
   "metadata": {},
   "source": [
    "# Tutorial"
   ]
  },
  {
   "cell_type": "markdown",
   "id": "3fe6eafc",
   "metadata": {},
   "source": [
    "## Modeling and Solving"
   ]
  },
  {
   "cell_type": "markdown",
   "id": "03ab7f76",
   "metadata": {},
   "source": [
    "### Overview"
   ]
  },
  {
   "cell_type": "markdown",
   "id": "e5a20e6d",
   "metadata": {},
   "source": [
    "The problem we solve is as follows.\n",
    "\n",
    "```\n",
    "minimize  2*(3*a+b)*b**2 + 3\n",
    "s.t.      a*b >= 2\n",
    "          0 <= a <= 1, a is integer\n",
    "          1 <= b <= 2, b is continuous\n",
    "```"
   ]
  },
  {
   "cell_type": "markdown",
   "id": "60f2fbbf",
   "metadata": {},
   "source": [
    "import flopt"
   ]
  },
  {
   "cell_type": "code",
   "execution_count": null,
   "id": "b06ff7ac",
   "metadata": {},
   "outputs": [],
   "source": [
    "import flopt"
   ]
  },
  {
   "cell_type": "code",
   "execution_count": null,
   "id": "bae78563",
   "metadata": {},
   "outputs": [],
   "source": [
    "import flopt\n",
    "\n",
    "# variables\n",
    "a = flopt.Variable(name=\"a\", lowBound=0, upBound=1, cat=\"Integer\")\n",
    "b = flopt.Variable(name=\"b\", lowBound=1, upBound=2, cat=\"Continuous\")\n",
    "\n",
    "# problem\n",
    "prob = flopt.Problem(name=\"Test\")\n",
    "\n",
    "# set objective function\n",
    "prob += 2*(3*a+b)*b**2+3\n",
    "\n",
    "# set constraint\n",
    "prob += a*b >= 2\n",
    "\n",
    "# run solver\n",
    "prob.solve(timelimit=0.5, msg=True)\n",
    "\n",
    "# get best solution\n",
    "print(\"obj value\", prob.getObjectiveValue())\n",
    "print(\"a\", a.value())  # or flopt.Value(a)\n",
    "print(\"b\", b.value())"
   ]
  },
  {
   "cell_type": "markdown",
   "id": "47609aba",
   "metadata": {},
   "source": [
    "### Variables"
   ]
  },
  {
   "cell_type": "code",
   "execution_count": null,
   "id": "cb7cd982",
   "metadata": {},
   "outputs": [],
   "source": [
    "from flopt import Variable\n",
    "\n",
    "a = Variable(name=\"a\", lowBound=0, upBound=1, cat=\"Integer\")    # is equal to Variable(\"a\", 0, 1, flopt.VarInteger)\n",
    "b = Variable(name=\"b\", lowBound=1, upBound=2, cat=\"Continuous\") # is equal to Variable(\"b\", 1, 2, flopt.VarContinuous)"
   ]
  },
  {
   "cell_type": "code",
   "execution_count": null,
   "id": "afe9e687",
   "metadata": {},
   "outputs": [],
   "source": [
    "b = Variable(\"b\", 1, 2, \"Continuous\", ini_value=1.5)"
   ]
  },
  {
   "cell_type": "code",
   "execution_count": null,
   "id": "e07de1d4",
   "metadata": {},
   "outputs": [],
   "source": [
    "# Integer (flopt.VarInteger) -- for variable takes only integer values\n",
    "x = Variable(\"x\", cat=\"Integer\")\n",
    "\n",
    "# Binary (flopt.VarBinary) -- for variable takes only 0 or 1\n",
    "x = Variable(\"x\", cat=\"Binary\")\n",
    "\n",
    "# Spin (flopt.VarSpin) -- for variable takes only -1 or 1\n",
    "x = Variable(\"x\", cat=\"Spin\")\n",
    "\n",
    "# Continuous (flopt.VarContinuous) -- for variable takes real numbers\n",
    "x = Variable(\"x\", cat=\"Continuous\")\n",
    "\n",
    "# Permutation (flopt.VarPermutation) -- for permutation variable\n",
    "x = Variable(\"x\", lowBound=0, upBound=5, cat=\"Permutation\")"
   ]
  },
  {
   "cell_type": "code",
   "execution_count": null,
   "id": "9687f035",
   "metadata": {},
   "outputs": [],
   "source": [
    "from flopt import Variable\n",
    "\n",
    "#\n",
    "# variables as array\n",
    "#\n",
    "Variable.array(\"x\", 5)  # (name, shape)\n",
    "Variable.array(\"x\", (2, 2))  # (name, shape); this is equal to flopt.Variable.matrix(\"x\", 2, 2)\n",
    "\n",
    "#\n",
    "# variables as dict\n",
    "#\n",
    "Variable.dict(\"x\", range(2))  # (name, shape)\n",
    "Variable.dict(\"x\", (range(2), range(2)))  # (name, shape)\n",
    "Variable.dicts(\"x\", (range(2), range(2)))  # (name, shape)"
   ]
  },
  {
   "cell_type": "markdown",
   "id": "d3cdc447",
   "metadata": {},
   "source": [
    "### Expression"
   ]
  },
  {
   "cell_type": "code",
   "execution_count": null,
   "id": "c606fdb1",
   "metadata": {},
   "outputs": [],
   "source": [
    "import flopt\n",
    "\n",
    "x = flopt.Variable(\"x\")\n",
    "y = flopt.Variable(\"y\")\n",
    "\n",
    "z = x + y\n",
    "z = x - y\n",
    "z = x * y\n",
    "z = x / y\n",
    "\n",
    "w = z * (x ** z) / y\n",
    "q = w ** z / z"
   ]
  },
  {
   "cell_type": "code",
   "execution_count": null,
   "id": "e49d2503",
   "metadata": {},
   "outputs": [],
   "source": [
    "x = flopt.Variable(\"x\", ini_value=1)\n",
    "y = flopt.Variable(\"y\", ini_value=2)\n",
    "z = x + y\n",
    "print(z.value())"
   ]
  },
  {
   "cell_type": "code",
   "execution_count": null,
   "id": "65e22814",
   "metadata": {},
   "outputs": [],
   "source": [
    "x = flopt.Variable(\"x\")\n",
    "\n",
    "z = flopt.cos(x)\n",
    "z = flopt.sin(x)\n",
    "z = flopt.abs(x)\n",
    "z = flopt.floor(x)"
   ]
  },
  {
   "cell_type": "code",
   "execution_count": null,
   "id": "1f7a6a94",
   "metadata": {},
   "outputs": [],
   "source": [
    "x = flopt.Variable.array(\"x\", 3)\n",
    "flopt.cos(x)"
   ]
  },
  {
   "cell_type": "code",
   "execution_count": null,
   "id": "9a480161",
   "metadata": {},
   "outputs": [],
   "source": [
    "def user_defined_fn(a, b):\n",
    "    return simulation(a, b)\n",
    "\n",
    "x = flopt.Variable(\"x\")\n",
    "y = flopt.Variable(\"y\")\n",
    "\n",
    "z = flopt.CustomExpression(user_defined_fn, args=[x, y])\n",
    "# z.value()  # value calculated through user_defind_fn(x, y)"
   ]
  },
  {
   "cell_type": "markdown",
   "id": "5c4282f6",
   "metadata": {},
   "source": [
    "### Problem"
   ]
  },
  {
   "cell_type": "code",
   "execution_count": null,
   "id": "f4bccffa",
   "metadata": {},
   "outputs": [],
   "source": [
    "prob = flopt.Problem(name=\"Test\", sense=\"Minimize\")\n",
    "prob += 2*(3*a+b)*b**2+3   # set the objective function"
   ]
  },
  {
   "cell_type": "code",
   "execution_count": null,
   "id": "a7750a6d",
   "metadata": {},
   "outputs": [],
   "source": [
    "prob = flopt.Problem(name=\"Test\", sense=\"Maximize\")  # is equal to sense=flopt.Maximize"
   ]
  },
  {
   "cell_type": "code",
   "execution_count": null,
   "id": "3d584417",
   "metadata": {},
   "outputs": [],
   "source": [
    "prob += a*b >= 2\n",
    "prob += a*b == 2\n",
    "prob += a*b <= 2"
   ]
  },
  {
   "cell_type": "code",
   "execution_count": null,
   "id": "91f39f20",
   "metadata": {},
   "outputs": [],
   "source": [
    "prob.show()"
   ]
  },
  {
   "cell_type": "markdown",
   "id": "c0b525d3",
   "metadata": {},
   "source": [
    "### Solve"
   ]
  },
  {
   "cell_type": "code",
   "execution_count": null,
   "id": "831339e8",
   "metadata": {
    "scrolled": true
   },
   "outputs": [],
   "source": [
    "import flopt\n",
    "\n",
    "a = Variable(name=\"a\", lowBound=0, upBound=1, cat=\"Integer\")\n",
    "b = Variable(name=\"b\", lowBound=1, upBound=2, cat=\"Continuous\")\n",
    "\n",
    "prob = flopt.Problem(name=\"Test\", sense=\"Minimize\")\n",
    "prob += 2*(3*a+b)*b**2+3\n",
    "\n",
    "# run solver\n",
    "prob.solve(timelimit=0.5, msg=True)"
   ]
  },
  {
   "cell_type": "code",
   "execution_count": null,
   "id": "c8df1b5c",
   "metadata": {},
   "outputs": [],
   "source": [
    "import flopt\n",
    "\n",
    "solver = flopt.Solver(algo=\"Random\")  # select the heuristic algorithm\n",
    "solver.setParams(timelimit=0.5)  # setting of the parameters\n",
    "prob.solve(solver=solver, msg=True)  # run solver"
   ]
  },
  {
   "cell_type": "code",
   "execution_count": null,
   "id": "f1dc1389",
   "metadata": {},
   "outputs": [],
   "source": [
    "import flopt\n",
    "\n",
    "a = flopt.Variable(\"a\", 0, 1, cat=\"Continuous\")\n",
    "b = flopt.Variable(\"b\", 1, 2, cat=\"Continuous\")\n",
    "\n",
    "prob = flopt.Problem(name=\"Test\")\n",
    "prob += 2*a + 3*b\n",
    "prob += a + b >= 1\n",
    "\n",
    "flopt.allAvailableSolvers(prob)"
   ]
  },
  {
   "cell_type": "code",
   "execution_count": null,
   "id": "b9dd1c88",
   "metadata": {},
   "outputs": [],
   "source": [
    "solver = flopt.Solver(algo=\"auto\")"
   ]
  },
  {
   "cell_type": "code",
   "execution_count": null,
   "id": "ea2f8091",
   "metadata": {},
   "outputs": [],
   "source": [
    "solver = flopt.Solver(algo=\"auto\")\n",
    "solver.setParams(timelimit=1)\n",
    "solver.select(prob).name"
   ]
  },
  {
   "cell_type": "markdown",
   "id": "78b74bbb",
   "metadata": {},
   "source": [
    "### Result"
   ]
  },
  {
   "cell_type": "code",
   "execution_count": null,
   "id": "6de7089b",
   "metadata": {},
   "outputs": [],
   "source": [
    "print(\"obj value\", prob.getObjectiveValue())\n",
    "print(\"a\", a.value())  # or flopt.Value(a)\n",
    "print(\"b\", b.value())"
   ]
  },
  {
   "cell_type": "code",
   "execution_count": null,
   "id": "0ebd49fb",
   "metadata": {},
   "outputs": [],
   "source": [
    "status, logs = prob.solve(solver, msg=True)  # run solver\n",
    "fig, ax = logs.plot(label=\"objective value of best solution\", marker=\"o\")"
   ]
  },
  {
   "cell_type": "markdown",
   "id": "ab29ed03",
   "metadata": {},
   "source": [
    "### [Expression Examples](https://flopt.readthedocs.io/en/latest/tutorial/expression_examples.html#expression-examples)"
   ]
  },
  {
   "cell_type": "code",
   "execution_count": null,
   "id": "ada22084",
   "metadata": {},
   "outputs": [],
   "source": [
    "import flopt"
   ]
  },
  {
   "cell_type": "markdown",
   "id": "9e70010c",
   "metadata": {},
   "source": [
    "$f = \\sum_i x_i$"
   ]
  },
  {
   "cell_type": "code",
   "execution_count": null,
   "id": "bb9f35f9",
   "metadata": {},
   "outputs": [],
   "source": [
    "x = flopt.Variable.array('x', 4)\n",
    "f = flopt.Sum(x)\n",
    "print(f)"
   ]
  },
  {
   "cell_type": "markdown",
   "id": "5feae28b",
   "metadata": {},
   "source": [
    "$f = \\sum_i \\sum_j x_i x_j$"
   ]
  },
  {
   "cell_type": "code",
   "execution_count": null,
   "id": "1c1b453e",
   "metadata": {},
   "outputs": [],
   "source": [
    "import itertools\n",
    "x = flopt.Variable.array(\"x\", 3)\n",
    "f = flopt.Sum(xi * xj for xi, xj in itertools.product(x, x))\n",
    "print(f)"
   ]
  },
  {
   "cell_type": "code",
   "execution_count": null,
   "id": "00301148",
   "metadata": {},
   "outputs": [],
   "source": [
    "x = flopt.Variable.array(\"x\", (3, 1))\n",
    "f = flopt.Sum(x.dot(x.T))\n",
    "print(f)"
   ]
  },
  {
   "cell_type": "markdown",
   "id": "16891e65",
   "metadata": {},
   "source": [
    "$f = \\sum_i \\left( \\sum_j x_{ij} -1 \\right) ^2$"
   ]
  },
  {
   "cell_type": "code",
   "execution_count": null,
   "id": "ff339277",
   "metadata": {},
   "outputs": [],
   "source": [
    "x = flopt.Variable.matrix(\"x\", 2, 2)\n",
    "f = flopt.Sum( (flopt.Sum(xi) - 1) ** 2 for xi in x )\n",
    "print(f)"
   ]
  },
  {
   "cell_type": "markdown",
   "id": "8f0eacb2",
   "metadata": {},
   "source": [
    "$f = \\sum_{i \\neq j}x_i x_j$"
   ]
  },
  {
   "cell_type": "code",
   "execution_count": null,
   "id": "66e46713",
   "metadata": {},
   "outputs": [],
   "source": [
    "import itertools\n",
    "x = flopt.Variable.array(\"x\", 3)\n",
    "f = flopt.Sum(xi * xj for xi, xj in itertools.combinations(x, 2))\n",
    "print(f)"
   ]
  },
  {
   "cell_type": "markdown",
   "id": "433e0e14",
   "metadata": {},
   "source": [
    "$f = \\prod_i x_i$"
   ]
  },
  {
   "cell_type": "code",
   "execution_count": null,
   "id": "ed7b07a5",
   "metadata": {
    "scrolled": true
   },
   "outputs": [],
   "source": [
    "x = flopt.Variable.array(\"x\", 3)\n",
    "f = flopt.Prod(x)\n",
    "print(f)"
   ]
  },
  {
   "cell_type": "markdown",
   "id": "ffb144c0",
   "metadata": {},
   "source": [
    "show the calcration graph"
   ]
  },
  {
   "cell_type": "code",
   "execution_count": null,
   "id": "045fbaca",
   "metadata": {},
   "outputs": [],
   "source": [
    "import flopt\n",
    "import itertools\n",
    "x = flopt.Variable.array(\"x\", 3)\n",
    "f = flopt.Sum(xi * xj for xi, xj in itertools.product(x, x))\n",
    "\n",
    "flopt.get_dot_graph(f, \"tmp.txt\")\n",
    "!dot tmp.txt -T png -o tmp.png\n",
    "\n",
    "from IPython.display import Image\n",
    "Image(\"./tmp.png\")"
   ]
  },
  {
   "cell_type": "code",
   "execution_count": null,
   "id": "824d88fb",
   "metadata": {},
   "outputs": [],
   "source": [
    "f = flopt.cos(flopt.sum(xi * xj for xi, xj in itertools.product(x, x)))\n",
    "\n",
    "flopt.get_dot_graph(f, \"tmp.txt\")\n",
    "!dot tmp.txt -T png -o tmp.png\n",
    "\n",
    "from IPython.display import Image\n",
    "Image(\"./tmp.png\")"
   ]
  },
  {
   "cell_type": "markdown",
   "id": "814806f7",
   "metadata": {},
   "source": [
    "### Jacobian and Hessian"
   ]
  },
  {
   "cell_type": "markdown",
   "id": "1142e343",
   "metadata": {},
   "source": [
    "$f = \\prod_i x_i \\Longrightarrow \\frac{\\partial}{\\partial x_j}f = \\prod_{i \\neq j} x_i$"
   ]
  },
  {
   "cell_type": "code",
   "execution_count": null,
   "id": "f75ecfe4",
   "metadata": {},
   "outputs": [],
   "source": [
    "x = flopt.Variable.array(\"x\", 3)\n",
    "f = flopt.Prod(x)  # f is x0 * x1 * x2\n",
    "\n",
    "# jacobian expression\n",
    "jac = f.jac(x)\n",
    "print(\"jac[0] =\", jac[0].getName())  # 0-index value of \\nabla f\n",
    "print(\"jac[1] =\", jac[1].getName())  # 1-index value of \\nabla f\n",
    "print(\"jac[2] =\", jac[2].getName())  # 2-index value of \\nabla f\n",
    "\n",
    "# jacobian value\n",
    "print(\"jac = \", jac.value())\n",
    "\n",
    "# hessian expression\n",
    "hess = f.hess(x)\n",
    "print(hess)\n",
    "\n",
    "# hessian value\n",
    "print(hess.value())"
   ]
  },
  {
   "cell_type": "code",
   "execution_count": null,
   "id": "ef8209a9",
   "metadata": {},
   "outputs": [],
   "source": [
    "hess = f.hess(x)\n",
    "print(hess)\n",
    "print(hess.value())"
   ]
  },
  {
   "cell_type": "markdown",
   "id": "05ae7f9a",
   "metadata": {},
   "source": [
    "## Conversion to different formulations"
   ]
  },
  {
   "cell_type": "markdown",
   "id": "65d41050",
   "metadata": {},
   "source": [
    "### [Quadratic Programming (QP)](https://flopt.readthedocs.io/en/latest/tutorial/convert/qp.html)"
   ]
  },
  {
   "cell_type": "code",
   "execution_count": null,
   "id": "61fd2e6d",
   "metadata": {},
   "outputs": [],
   "source": [
    "import flopt\n",
    "\n",
    "# Variables\n",
    "a = flopt.Variable('a', lowBound=0, upBound=1, cat='Integer')\n",
    "b = flopt.Variable('b', lowBound=1, upBound=2, cat='Continuous')\n",
    "c = flopt.Variable('c', lowBound=1, upBound=3, cat='Continuous')\n",
    "\n",
    "# Problem\n",
    "prob = flopt.Problem()\n",
    "prob += a*a + a*b + b + c + 2\n",
    "prob += a + b <= 2\n",
    "prob += b - c == 3\n",
    "\n",
    "prob.show()"
   ]
  },
  {
   "cell_type": "code",
   "execution_count": null,
   "id": "5836e645",
   "metadata": {},
   "outputs": [],
   "source": [
    "from flopt.convert import QpStructure\n",
    "qp = QpStructure.fromFlopt(prob)\n",
    "\n",
    "print(qp.show())"
   ]
  },
  {
   "cell_type": "code",
   "execution_count": null,
   "id": "6d86ed5d",
   "metadata": {},
   "outputs": [],
   "source": [
    "print(qp.toEq().show())"
   ]
  },
  {
   "cell_type": "code",
   "execution_count": null,
   "id": "c1c5bc05",
   "metadata": {},
   "outputs": [],
   "source": [
    "print(qp.toIneq().show())"
   ]
  },
  {
   "cell_type": "markdown",
   "id": "f3fa3180",
   "metadata": {},
   "source": [
    "### [Linear Programmnig (LP)](https://flopt.readthedocs.io/en/latest/tutorial/convert/lp.html)"
   ]
  },
  {
   "cell_type": "code",
   "execution_count": null,
   "id": "28a0ec52",
   "metadata": {},
   "outputs": [],
   "source": [
    "import flopt\n",
    "\n",
    "# variables\n",
    "a = flopt.Variable(name=\"a\", lowBound=0, upBound=1, cat=\"Integer\")\n",
    "b = flopt.Variable(name=\"b\", lowBound=1, upBound=2, cat=\"Continuous\")\n",
    "c = flopt.Variable(name=\"c\", lowBound=1, upBound=3, cat=\"Continuous\")\n",
    "\n",
    "# problem\n",
    "prob = flopt.Problem(name=\"LP\")\n",
    "prob += a + b + c + 2\n",
    "prob += a + b == 2\n",
    "prob += b - c <= 3\n",
    "\n",
    "print(prob)"
   ]
  },
  {
   "cell_type": "markdown",
   "id": "f3879c9e",
   "metadata": {},
   "source": [
    "#### [flopt to LP](https://flopt.readthedocs.io/en/latest/tutorial/convert/lp.html#flopt-to-lp)"
   ]
  },
  {
   "cell_type": "code",
   "execution_count": null,
   "id": "bb50f96c",
   "metadata": {},
   "outputs": [],
   "source": [
    "from flopt.convert import LpStructure\n",
    "lp = LpStructure.fromFlopt(prob)\n",
    "\n",
    "print(lp.show())"
   ]
  },
  {
   "cell_type": "code",
   "execution_count": null,
   "id": "d638e4b1",
   "metadata": {},
   "outputs": [],
   "source": [
    "print(lp.toEq().show())"
   ]
  },
  {
   "cell_type": "code",
   "execution_count": null,
   "id": "9547517f",
   "metadata": {},
   "outputs": [],
   "source": [
    "print(lp.toIneq().toFlopt().show())"
   ]
  },
  {
   "cell_type": "code",
   "execution_count": null,
   "id": "8f4d00c6",
   "metadata": {},
   "outputs": [],
   "source": [
    "print(lp.toIneq().show())"
   ]
  },
  {
   "cell_type": "markdown",
   "id": "4b31e464",
   "metadata": {},
   "source": [
    "#### [LP to flopt](https://flopt.readthedocs.io/en/latest/tutorial/convert/lp.html#lp-to-flopt)"
   ]
  },
  {
   "cell_type": "code",
   "execution_count": null,
   "id": "2e505947",
   "metadata": {},
   "outputs": [],
   "source": [
    "# make Lp model\n",
    "c = [1, 1, 1]\n",
    "C = 2\n",
    "A = [[1, 0, 1],\n",
    "     [1, -1, 0]]\n",
    "b = [2, 3]\n",
    "lb = [1, 1, 0]\n",
    "ub = [2, 3, 1]\n",
    "var_types=[\"Binary\", \"Continuous\", \"Continuous\"]\n",
    "\n",
    "from flopt.convert import LpStructure\n",
    "prob = LpStructure(c, C, A=A, b=b, lb=lb, ub=ub, types=var_types).toFlopt()\n",
    "\n",
    "prob.show()"
   ]
  },
  {
   "cell_type": "markdown",
   "id": "be6a25b9",
   "metadata": {},
   "source": [
    "### [Ising](https://flopt.readthedocs.io/en/latest/tutorial/convert/ising.html)"
   ]
  },
  {
   "cell_type": "code",
   "execution_count": null,
   "id": "96ae1b25",
   "metadata": {},
   "outputs": [],
   "source": [
    "import flopt\n",
    "\n",
    "# Variables\n",
    "a = flopt.Variable('a', cat='Spin')\n",
    "b = flopt.Variable('b', cat='Spin')\n",
    "\n",
    "# Problem\n",
    "prob = flopt.Problem()\n",
    "prob += 1 - a * b - a\n",
    "\n",
    "print(prob)"
   ]
  },
  {
   "cell_type": "markdown",
   "id": "9e9b1951",
   "metadata": {},
   "source": [
    "#### [flopt to Ising](https://flopt.readthedocs.io/en/latest/tutorial/convert/ising.html#flopt-to-ising)"
   ]
  },
  {
   "cell_type": "code",
   "execution_count": null,
   "id": "61aacab7",
   "metadata": {},
   "outputs": [],
   "source": [
    "import flopt\n",
    "\n",
    "# Variables\n",
    "a = flopt.Variable('a', cat='Spin')\n",
    "b = flopt.Variable('b', cat='Binary') # Binary variable\n",
    "\n",
    "# Problem\n",
    "prob = flopt.Problem()\n",
    "prob += 1 - a * b - a\n",
    "\n",
    "print(prob)"
   ]
  },
  {
   "cell_type": "code",
   "execution_count": null,
   "id": "45eae105",
   "metadata": {},
   "outputs": [],
   "source": [
    "from flopt.convert import IsingStructure\n",
    "ising = IsingStructure.fromFlopt(prob)\n",
    "\n",
    "print(ising.show())"
   ]
  },
  {
   "cell_type": "markdown",
   "id": "bce33723",
   "metadata": {},
   "source": [
    "#### [Convert to QUBO](https://flopt.readthedocs.io/en/latest/tutorial/convert/ising.html#convert-to-qubo)"
   ]
  },
  {
   "cell_type": "code",
   "execution_count": null,
   "id": "522dbb5d",
   "metadata": {},
   "outputs": [],
   "source": [
    "ising.toQubo()    # convert ising to QUBO\n",
    "\n",
    "print(ising.toQubo().toFlopt().show())  # for show cleary ising.toQubo()"
   ]
  },
  {
   "cell_type": "code",
   "execution_count": null,
   "id": "537c14ea",
   "metadata": {},
   "outputs": [],
   "source": [
    "flopt.allAvailableSolvers(prob)"
   ]
  },
  {
   "cell_type": "markdown",
   "id": "534bf901",
   "metadata": {},
   "source": [
    "#### [Ising to flopt](https://flopt.readthedocs.io/en/latest/tutorial/convert/ising.html#ising-to-flopt)"
   ]
  },
  {
   "cell_type": "code",
   "execution_count": null,
   "id": "73eae45e",
   "metadata": {},
   "outputs": [],
   "source": [
    "# make ising model\n",
    "J = [[0, 1],\n",
    "     [0, 0]]\n",
    "h = [1, 0]\n",
    "C = 1\n",
    "\n",
    "from flopt.convert import IsingStructure\n",
    "prob = IsingStructure(J, h, C).toFlopt()\n",
    "\n",
    "prob.show()"
   ]
  },
  {
   "cell_type": "markdown",
   "id": "28894608",
   "metadata": {},
   "source": [
    "### [Quadratic Unconstrainted Binary Programming (QUBO)](https://flopt.readthedocs.io/en/latest/tutorial/convert/qubo.html)"
   ]
  },
  {
   "cell_type": "code",
   "execution_count": null,
   "id": "e5f039bb",
   "metadata": {},
   "outputs": [],
   "source": [
    "import flopt\n",
    "\n",
    "# Variables\n",
    "a = flopt.Variable('a', cat='Binary')\n",
    "b = flopt.Variable('b', cat='Binary')\n",
    "\n",
    "# Problem\n",
    "prob = flopt.Problem()\n",
    "prob += 1 - a * b - a\n",
    "\n",
    "print(prob)"
   ]
  },
  {
   "cell_type": "markdown",
   "id": "52219584",
   "metadata": {},
   "source": [
    "#### [flopt to QUBO](https://flopt.readthedocs.io/en/latest/tutorial/convert/qubo.html#flopt-to-qubo)"
   ]
  },
  {
   "cell_type": "code",
   "execution_count": null,
   "id": "f4a46089",
   "metadata": {},
   "outputs": [],
   "source": [
    "from flopt.convert import QuboStructure\n",
    "qubo = QuboStructure.fromFlopt(prob)\n",
    "\n",
    "print(qubo.show())"
   ]
  },
  {
   "cell_type": "markdown",
   "id": "320ec9c5",
   "metadata": {},
   "source": [
    "#### [QUBO to flopt](https://flopt.readthedocs.io/en/latest/tutorial/convert/qubo.html#qubo-to-flopt)"
   ]
  },
  {
   "cell_type": "code",
   "execution_count": null,
   "id": "7cef8a46",
   "metadata": {},
   "outputs": [],
   "source": [
    "# make ising\n",
    "Q = [[-1, -1],\n",
    "     [0, 0]]\n",
    "C = 1.0\n",
    "\n",
    "from flopt.convert import QuboStructure\n",
    "prob = QuboStructure(Q, C).toFlopt()\n",
    "\n",
    "print(prob)"
   ]
  },
  {
   "cell_type": "markdown",
   "id": "4e9b8cc6",
   "metadata": {},
   "source": [
    "```\n",
    "minimize  a * b * c + 2\n",
    "s.t.      a * b == 2\n",
    "          0 <= a <= 1, a is integer\n",
    "          1 <= b <= 2, b is continuous\n",
    "          1 <= c <= 3, c is continuous\n",
    " ```"
   ]
  },
  {
   "cell_type": "code",
   "execution_count": null,
   "id": "0519e5cd",
   "metadata": {},
   "outputs": [],
   "source": [
    "a = flopt.Variable(name=\"a\", lowBound=0, upBound=1, cat=\"Integer\")\n",
    "b = flopt.Variable(name=\"b\", lowBound=1, upBound=2, cat=\"Continuous\")\n",
    "c = flopt.Variable(name=\"c\", lowBound=1, upBound=3, cat=\"Continuous\")"
   ]
  },
  {
   "cell_type": "code",
   "execution_count": null,
   "id": "1c4e2153",
   "metadata": {},
   "outputs": [],
   "source": [
    "prob = flopt.Problem()\n",
    "prob += a * b * c + 2\n",
    "prob += a * c == 2\n",
    "prob.show()"
   ]
  },
  {
   "cell_type": "markdown",
   "id": "8fa40207",
   "metadata": {},
   "source": [
    "# docstrings"
   ]
  },
  {
   "cell_type": "markdown",
   "id": "4468911a",
   "metadata": {},
   "source": [
    "## Solvers"
   ]
  },
  {
   "cell_type": "markdown",
   "id": "407bcb79",
   "metadata": {},
   "source": [
    "### ScipySearch"
   ]
  },
  {
   "cell_type": "code",
   "execution_count": null,
   "id": "66ad907d",
   "metadata": {},
   "outputs": [],
   "source": [
    "import flopt\n",
    "\n",
    "# Variables\n",
    "a = flopt.Variable(\"a\", lowBound=-2, upBound=1, cat=\"Integer\")\n",
    "b = flopt.Variable(\"b\", lowBound=1, upBound=4, cat=\"Continuous\")\n",
    "c = flopt.Variable(\"c\", lowBound=0, upBound=3, cat=\"Continuous\")\n",
    "\n",
    "# Problem\n",
    "prob = flopt.Problem()\n",
    "prob += a*a + a*b + b + c + 2\n",
    "prob += a + b >= 2\n",
    "prob += b - c == 3\n",
    "\n",
    "prob.solve(solver=\"Scipy\", msg=True)\n",
    "\n",
    "print(flopt.Value([a, b, c]))"
   ]
  },
  {
   "cell_type": "markdown",
   "id": "a632bbf3",
   "metadata": {},
   "source": [
    "### PulpSearch"
   ]
  },
  {
   "cell_type": "code",
   "execution_count": null,
   "id": "697a53e8",
   "metadata": {},
   "outputs": [],
   "source": [
    "import flopt\n",
    "\n",
    "# Variables\n",
    "a = flopt.Variable(\"a\", lowBound=0, upBound=1, cat=\"Integer\")\n",
    "b = flopt.Variable(\"b\", lowBound=1, upBound=2, cat=\"Continuous\")\n",
    "c = flopt.Variable(\"c\", lowBound=-1, upBound=3, cat=\"Continuous\")\n",
    "\n",
    "# Problem\n",
    "prob = flopt.Problem()\n",
    "prob += a + b + c + 2\n",
    "prob += a + b >= 2\n",
    "prob += b - c >= 3\n",
    "\n",
    "prob.solve(solver=\"Pulp\", msg=True)"
   ]
  },
  {
   "cell_type": "code",
   "execution_count": null,
   "id": "51d0c027",
   "metadata": {},
   "outputs": [],
   "source": [
    "solver = flopt.Solver(\"Pulp\")\n",
    "\n",
    "import pulp\n",
    "glpk_solver = pulp.GLPK_CMD()\n",
    "solver.setParams(solver=glpk_solver)\n",
    "prob.solve(solver, msg=True)"
   ]
  },
  {
   "cell_type": "markdown",
   "id": "24262239",
   "metadata": {},
   "source": [
    "### ScipyMilpSearch"
   ]
  },
  {
   "cell_type": "code",
   "execution_count": null,
   "id": "11ad2d3a",
   "metadata": {},
   "outputs": [],
   "source": [
    "import flopt\n",
    "\n",
    "# Variables\n",
    "a = flopt.Variable(\"a\", lowBound=0, upBound=1, cat=\"Integer\")\n",
    "b = flopt.Variable(\"b\", lowBound=1, upBound=2, cat=\"Continuous\")\n",
    "c = flopt.Variable(\"c\", lowBound=-1, upBound=3, cat=\"Continuous\")\n",
    "\n",
    "# Problem\n",
    "prob = flopt.Problem()\n",
    "prob += a + b + c + 2\n",
    "prob += a + b >= 2\n",
    "prob += b - c >= 3\n",
    "\n",
    "prob.solve(solver=\"ScipyMilp\", msg=True)"
   ]
  },
  {
   "cell_type": "markdown",
   "id": "63b4b092",
   "metadata": {},
   "source": [
    "### CvxoptSearch"
   ]
  },
  {
   "cell_type": "code",
   "execution_count": null,
   "id": "ecadc025",
   "metadata": {},
   "outputs": [],
   "source": [
    "import flopt\n",
    "\n",
    "x = flopt.Variable(\"x\", lowBound=-1, upBound=1, cat=\"Continuous\")\n",
    "y = flopt.Variable(\"y\", lowBound=-1, upBound=1, cat=\"Continuous\")\n",
    "\n",
    "prob = flopt.Problem()\n",
    "prob += 2*x*x + x*y + y*y + x + y\n",
    "prob += x >= 0\n",
    "prob += y >= 0\n",
    "prob += x + y == 1\n",
    "\n",
    "status, log = prob.solve(solver=\"Cvxopt\", msg=True)\n",
    "\n",
    "print(\"obj =\", flopt.Value(prob.obj))\n",
    "print(\"x =\", flopt.Value(x))\n",
    "print(\"y =\", flopt.Value(y))"
   ]
  },
  {
   "cell_type": "markdown",
   "id": "9e59e94f",
   "metadata": {},
   "source": [
    "### OptunaCmaEsSearch, OptunaTPESearch, HyperoptSearch, SFLA, RandomSearch"
   ]
  },
  {
   "cell_type": "code",
   "execution_count": null,
   "id": "f4be2c8b",
   "metadata": {},
   "outputs": [],
   "source": [
    "import flopt\n",
    "\n",
    "x = flopt.Variable(\"x\", lowBound=-1, upBound=1, cat=\"Continuous\")\n",
    "y = flopt.Variable(\"y\", lowBound=-1, upBound=1, cat=\"Continuous\")\n",
    "\n",
    "prob = flopt.Problem()\n",
    "prob += 2*x*x + x*y + y*y + x + y\n",
    "\n",
    "status, log = prob.solve(solver=\"OptunaCmaEs\", msg=True, timelimit=1)\n",
    "\n",
    "print(\"obj =\", flopt.Value(prob.obj))\n",
    "print(\"x =\", flopt.Value(x))\n",
    "print(\"y =\", flopt.Value(y))"
   ]
  },
  {
   "cell_type": "code",
   "execution_count": null,
   "id": "31529863",
   "metadata": {},
   "outputs": [],
   "source": [
    "import flopt\n",
    "\n",
    "x = flopt.Variable(\"x\", lowBound=-1, upBound=1, cat=\"Continuous\")\n",
    "y = flopt.Variable(\"y\", lowBound=-1, upBound=1, cat=\"Continuous\")\n",
    "\n",
    "prob = flopt.Problem()\n",
    "prob += 2*x*x + x*y + y*y + x + y\n",
    "\n",
    "status, log = prob.solve(solver=\"OptunaTPE\", msg=True, timelimit=1)\n",
    "\n",
    "print(\"obj =\", flopt.Value(prob.obj))\n",
    "print(\"x =\", flopt.Value(x))\n",
    "print(\"y =\", flopt.Value(y))"
   ]
  },
  {
   "cell_type": "code",
   "execution_count": null,
   "id": "e04a429c",
   "metadata": {},
   "outputs": [],
   "source": [
    "import flopt\n",
    "\n",
    "x = flopt.Variable(\"x\", lowBound=-1, upBound=1, cat=\"Continuous\")\n",
    "y = flopt.Variable(\"y\", lowBound=-1, upBound=1, cat=\"Continuous\")\n",
    "\n",
    "prob = flopt.Problem()\n",
    "prob += 2*x*x + x*y + y*y + x + y\n",
    "\n",
    "status, log = prob.solve(solver=\"Hyperopt\", msg=True, timelimit=1)\n",
    "\n",
    "print(\"obj =\", flopt.Value(prob.obj))\n",
    "print(\"x =\", flopt.Value(x))\n",
    "print(\"y =\", flopt.Value(y))"
   ]
  },
  {
   "cell_type": "code",
   "execution_count": null,
   "id": "0b9aadaa",
   "metadata": {},
   "outputs": [],
   "source": [
    "import flopt\n",
    "\n",
    "x = flopt.Variable(\"x\", lowBound=-1, upBound=1, cat=\"Continuous\")\n",
    "y = flopt.Variable(\"y\", lowBound=-1, upBound=1, cat=\"Continuous\")\n",
    "\n",
    "prob = flopt.Problem()\n",
    "prob += 2*x*x + x*y + y*y + x + y\n",
    "\n",
    "status, log = prob.solve(solver=\"SFLA\", msg=True, timelimit=1)\n",
    "\n",
    "print(\"obj =\", flopt.Value(prob.obj))\n",
    "print(\"x =\", flopt.Value(x))\n",
    "print(\"y =\", flopt.Value(y))"
   ]
  },
  {
   "cell_type": "code",
   "execution_count": null,
   "id": "e4ef801b",
   "metadata": {},
   "outputs": [],
   "source": [
    "import flopt\n",
    "\n",
    "x = flopt.Variable(\"x\", lowBound=1, upBound=1, cat=\"Continuous\")\n",
    "y = flopt.Variable(\"y\", lowBound=-1, upBound=1, cat=\"Continuous\")\n",
    "\n",
    "prob = flopt.Problem()\n",
    "prob += 2*x*x + x*y + y*y + x + y\n",
    "\n",
    "status, log = prob.solve(solver=\"Random\", msg=True, timelimit=1)\n",
    "\n",
    "print(\"obj =\", flopt.Value(prob.obj))\n",
    "print(\"x =\", flopt.Value(x))\n",
    "print(\"y =\", flopt.Value(y))"
   ]
  },
  {
   "cell_type": "markdown",
   "id": "cbb37b50",
   "metadata": {},
   "source": [
    "### AutoSearch"
   ]
  },
  {
   "cell_type": "code",
   "execution_count": null,
   "id": "37172e03",
   "metadata": {},
   "outputs": [],
   "source": [
    "import flopt\n",
    "\n",
    "# Variables\n",
    "a = flopt.Variable(\"a\", lowBound=0, upBound=1, cat=\"Integer\")\n",
    "b = flopt.Variable(\"b\", lowBound=1, upBound=2, cat=\"Continuous\")\n",
    "c = flopt.Variable(\"c\", lowBound=1, upBound=3, cat=\"Continuous\")\n",
    "\n",
    "prob = flopt.Problem(name=\"Test\")\n",
    "prob += 2*(3*a+b)*c**2+3"
   ]
  },
  {
   "cell_type": "code",
   "execution_count": null,
   "id": "61ca78fa",
   "metadata": {},
   "outputs": [],
   "source": [
    "prob.solve(solver=\"auto\", timelimit=10, msg=True)"
   ]
  },
  {
   "cell_type": "code",
   "execution_count": null,
   "id": "c4fc151b",
   "metadata": {},
   "outputs": [],
   "source": [
    "solver = flopt.Solver(algo=\"auto\")\n",
    "solver.setParams({\"timelimit\": 10})\n",
    "solver = solver.select(prob)\n",
    "print(solver.name)"
   ]
  },
  {
   "cell_type": "markdown",
   "id": "94a68805",
   "metadata": {},
   "source": [
    "# Case study"
   ]
  },
  {
   "cell_type": "markdown",
   "id": "b598bce3",
   "metadata": {},
   "source": [
    "## [Sudoku](https://flopt.readthedocs.io/en/latest/case_studies/sudoku.html)"
   ]
  },
  {
   "cell_type": "markdown",
   "id": "e6658670",
   "metadata": {},
   "source": [
    "### Problem of Sudoku"
   ]
  },
  {
   "cell_type": "markdown",
   "id": "31274136",
   "metadata": {},
   "source": [
    "```\n",
    "     0 1 2   3 4 5   6 7 8\n",
    "   +-------+-------+-------+\n",
    "0  |       |       |   1   |\n",
    "1  | 4     |       |       |\n",
    "2  |   2   |       |       |\n",
    "   +-------+-------+-------+\n",
    "3  |       |   5   | 4   7 |\n",
    "4  |     8 |       | 3     |\n",
    "5  |     1 |   9   |       |\n",
    "   +-------+-------+-------+\n",
    "6  | 3     | 4     | 2     |\n",
    "7  |   5   | 1     |       |\n",
    "8  |       | 8   6 |       |\n",
    "   +-------+-------+-------+\n",
    "```"
   ]
  },
  {
   "cell_type": "code",
   "execution_count": null,
   "id": "b7fd3c13",
   "metadata": {},
   "outputs": [],
   "source": [
    "# problem format\n",
    "hints = [\n",
    "    # value, row, col\n",
    "    (1, 0, 7), (4, 1, 0), (2, 2, 1), (5, 3, 4), (4, 3, 6),\n",
    "    (7, 3, 8), (8, 4, 2), (3, 4, 6), (1, 5, 2), (9, 5, 4),\n",
    "    (3, 6, 0), (4, 6, 3), (2, 6, 6), (5, 7, 1), (1, 7, 3),\n",
    "    (8, 8, 3), (6, 8, 5),\n",
    "]"
   ]
  },
  {
   "cell_type": "markdown",
   "id": "d95fa4c0",
   "metadata": {},
   "source": [
    "### Build optimization problem"
   ]
  },
  {
   "cell_type": "code",
   "execution_count": null,
   "id": "0b8a96c0",
   "metadata": {},
   "outputs": [],
   "source": [
    "import flopt"
   ]
  },
  {
   "cell_type": "code",
   "execution_count": null,
   "id": "458c0030",
   "metadata": {},
   "outputs": [],
   "source": [
    "# A list of number sequence\n",
    "Sequence = list(range(9))\n",
    "Vals = Sequence\n",
    "Rows = Sequence\n",
    "Cols = Sequence"
   ]
  },
  {
   "cell_type": "code",
   "execution_count": null,
   "id": "cee7f41a",
   "metadata": {},
   "outputs": [],
   "source": [
    "# The problem variables\n",
    "x = flopt.Variable.array(\"x\", (9, 9, 9), cat='Binary', ini_value=0)"
   ]
  },
  {
   "cell_type": "code",
   "execution_count": null,
   "id": "f8037de4",
   "metadata": {},
   "outputs": [],
   "source": [
    "# The starting numbers are entered as constant\n",
    "for value, row, col in hints:\n",
    "    x[value-1, row, col] = 1"
   ]
  },
  {
   "cell_type": "code",
   "execution_count": null,
   "id": "e515ae9c",
   "metadata": {},
   "outputs": [],
   "source": [
    "prob = flopt.Problem(\"Sudoku\")\n",
    "\n",
    "# A constraint ensuring that only one value can be in each piece\n",
    "for r in Rows:\n",
    "    for c in Cols:\n",
    "        prob += flopt.Sum(x[:, r, c]) == 1  # is equal to Sum(x[i, r, c] for i in Vals) == 1\n",
    "\n",
    "# The row, column and box constraints are added for each value\n",
    "for v in Vals:\n",
    "    for r in Rows:\n",
    "        prob += flopt.Sum(x[v, r, :]) == 1\n",
    "\n",
    "    for c in Cols:\n",
    "        prob += flopt.Sum(x[v, :, c]) == 1\n",
    "\n",
    "    for r in [0, 3, 6]:\n",
    "        for c in [0, 3, 6]:\n",
    "            prob += flopt.Sum(x[v, r:r+3, c:c+3]) == 1"
   ]
  },
  {
   "cell_type": "code",
   "execution_count": null,
   "id": "c7027cf2",
   "metadata": {},
   "outputs": [],
   "source": [
    "prob.show()"
   ]
  },
  {
   "cell_type": "code",
   "execution_count": null,
   "id": "324c298d",
   "metadata": {},
   "outputs": [],
   "source": [
    "prob.solve(solver=\"auto\", msg=True)"
   ]
  },
  {
   "cell_type": "code",
   "execution_count": null,
   "id": "0085ee01",
   "metadata": {},
   "outputs": [],
   "source": [
    "# display result\n",
    "row_line = \"+-------+-------+-------+\"\n",
    "print(row_line)\n",
    "for r in Rows:\n",
    "    if r in {3, 6}:\n",
    "        print(row_line)\n",
    "    for c in Cols:\n",
    "        if c in {0, 3, 6}:\n",
    "            print(\"| \", end=\"\")\n",
    "        for v in Vals:\n",
    "            if flopt.Value(x[v, r, c]) == 1:\n",
    "                print(f\"{v+1} \", end=\"\")\n",
    "        if c == 8:\n",
    "            print(\"|\")\n",
    "print(row_line)"
   ]
  },
  {
   "cell_type": "markdown",
   "id": "5b2a6399",
   "metadata": {},
   "source": [
    "## Travelling salesman problem"
   ]
  },
  {
   "cell_type": "code",
   "execution_count": null,
   "id": "8f204e1c",
   "metadata": {},
   "outputs": [],
   "source": [
    "import flopt\n",
    "\n",
    "# We have the distance matrix D, and the number of city is N\n",
    "N = 4\n",
    "D = [\n",
    "    [0.0, 3.0, 2.0, 1.0],\n",
    "    [2.0, 0.0, 1.0, 1.0],\n",
    "    [1.0, 3.0, 0.0, 4.0],\n",
    "    [1.0, 1.0, 2.0, 1.0],\n",
    "]\n",
    "\n",
    "# Variables\n",
    "perm = flopt.Variable(\"perm\", lowBound=0, upBound=N-1, cat=\"Permutation\")\n",
    "\n",
    "# Problem\n",
    "prob = flopt.Problem(name=\"TSP\")\n",
    "\n",
    "# Object\n",
    "def tsp_dist(perm):\n",
    "    distance = 0\n",
    "    for head, tail in zip(perm, perm[1:]+[perm[0]]):\n",
    "        distance += D[head][tail]  # D is the distance matrix\n",
    "    return distance\n",
    "tsp_obj = flopt.CustomExpression(func=tsp_dist, args=[perm])\n",
    "prob += tsp_obj\n",
    "\n",
    "# run solver\n",
    "prob.solve(solver=\"2-Opt\", timelimit=3, msg=True)\n",
    "\n",
    "# Result\n",
    "print(\"result\", perm.value())"
   ]
  },
  {
   "cell_type": "markdown",
   "id": "afa50890",
   "metadata": {},
   "source": [
    "### Optimize using the Linear Programming (LP) method"
   ]
  },
  {
   "cell_type": "code",
   "execution_count": null,
   "id": "2374b45c",
   "metadata": {},
   "outputs": [],
   "source": [
    "import flopt\n",
    "\n",
    "import numpy as np\n",
    "\n",
    "# We have the distance matrix D, and the number of city is N\n",
    "N = 4\n",
    "D = [\n",
    "    [0.0, 3.0, 2.0, 1.0],\n",
    "    [2.0, 0.0, 1.0, 1.0],\n",
    "    [1.0, 3.0, 0.0, 4.0],\n",
    "    [1.0, 1.0, 2.0, 1.0],\n",
    "]\n",
    "\n",
    "# Variables\n",
    "cities = list(range(N))\n",
    "x = flopt.Variable.matrix(\"x\", N, N, cat=\"Binary\")\n",
    "np.fill_diagonal(x, 0)\n",
    "u = flopt.Variable.array(\"u\", N, lowBound=0, upBound=N - 1, cat=\"Continuous\")\n",
    "\n",
    "# Problem\n",
    "prob = flopt.Problem(name=f\"TSP_LP\")\n",
    "\n",
    "# Objective\n",
    "tsp_obj = flopt.sum(D * x)  # sum(D[i, j] * x[i, j] for all i, j)\n",
    "prob += tsp_obj\n",
    "\n",
    "# Constraints (flow condition)\n",
    "for i in cities:\n",
    "    prob += flopt.sum(x[i, :]) == 1\n",
    "    prob += flopt.sum(x[:, i]) == 1\n",
    "\n",
    "# COnstraints (remove subtour)\n",
    "for i, j in itertools.combinations(cities, 2):\n",
    "    prob += u[j] >= u[i] + 1 - N * (1 - x[i, j])\n",
    "    if i != 0:\n",
    "        prob += u[i] >= u[j] + 1 - N * (1 - x[j, i])\n",
    "prob += u[0] == 0\n",
    "\n",
    "# run solver\n",
    "prob.solve(timelimit=3, msg=True)\n",
    "\n",
    "# Result\n",
    "print(\"result\", perm.value())"
   ]
  },
  {
   "cell_type": "markdown",
   "id": "69887270",
   "metadata": {},
   "source": [
    "## Max Satisfiability Problem"
   ]
  },
  {
   "cell_type": "code",
   "execution_count": null,
   "id": "89b6e669",
   "metadata": {},
   "outputs": [],
   "source": [
    "import flopt\n",
    "\n",
    "# literals\n",
    "x0 = flopt.Variable(\"x0\", cat=\"Binary\")\n",
    "x1 = flopt.Variable(\"x1\", cat=\"Binary\")\n",
    "\n",
    "# clauses\n",
    "c1 = x0 | x1\n",
    "c2 = x0 | ~x1\n",
    "c3 = ~x0 | x1\n",
    "c4 = ~x0 | ~x1\n",
    "\n",
    "clauses = [c1, c2, c3, c4]\n",
    "weights = [1, 2, 3, 4]\n",
    "obj = flopt.dot(clauses, weights)\n",
    "\n",
    "prob = flopt.Problem(\"MaxSat\", sense=\"Maximize\")\n",
    "prob += obj\n",
    "\n",
    "prob.solve(timelimit=2, msg=True)\n",
    "\n",
    "print(\"value x0\", x0.value())\n",
    "print(\"value x1\", x1.value())\n",
    "for clause in clauses:\n",
    "    print(f\"{clause} = {clause.value()}\")"
   ]
  },
  {
   "cell_type": "markdown",
   "id": "9375a2bb",
   "metadata": {},
   "source": [
    "## Number Partitioning"
   ]
  },
  {
   "cell_type": "markdown",
   "id": "6b9eaa76",
   "metadata": {},
   "source": [
    "We will solver the number partitioning problem. We try to find the partion of number set A to two groups, B and C, such that the summation of B and sum of C are equal."
   ]
  },
  {
   "cell_type": "code",
   "execution_count": null,
   "id": "da443a69",
   "metadata": {},
   "outputs": [],
   "source": [
    "# list of numbers\n",
    "A = [10, 8, 7, 9]"
   ]
  },
  {
   "cell_type": "markdown",
   "id": "33efadef",
   "metadata": {},
   "source": [
    "We use Spin variables $s$ to formulate this problem, which is\n",
    "\n",
    "\\begin{equation}\n",
    "s_i = \n",
    "\\left\\{\n",
    "    \\begin{aligned}\n",
    "    & +1 \\quad (i \\in B)\\\\\n",
    "    & -1 \\quad (i \\in C)\\\\\n",
    "    \\end{aligned}\n",
    "\\right.\n",
    "\\end{equation}\n",
    "\n",
    "Then, the difference of the summation of B and that of C can be represented by\n",
    "\n",
    "\\begin{align}\n",
    "\\sum_i a_i s_i\n",
    "\\end{align}\n",
    "\n",
    "Hence, by optimizing the spin variables that takes minimum value of $\\left(\\sum_i a_i s_i \\right)^2$, we can obtain the desired partitioning."
   ]
  },
  {
   "cell_type": "code",
   "execution_count": null,
   "id": "2234be8a",
   "metadata": {},
   "outputs": [],
   "source": [
    "import flopt\n",
    "\n",
    "# create variables\n",
    "s = flopt.Variable.array(\"s\", len(A), cat=\"Spin\", ini_value=1)\n",
    "print(s)\n",
    "\n",
    "obj  = flopt.Dot(s, A) ** 2\n",
    "print(obj)\n",
    "\n",
    "# create problem\n",
    "prob = flopt.Problem(\"Number Partitioning\")\n",
    "\n",
    "# set objective function\n",
    "prob += obj\n",
    "\n",
    "print(prob)"
   ]
  },
  {
   "cell_type": "markdown",
   "id": "b99c6ec4",
   "metadata": {},
   "source": [
    "Then, we create Problem"
   ]
  },
  {
   "cell_type": "markdown",
   "id": "751b6f9f",
   "metadata": {},
   "source": [
    "### Solve using RandomSearch"
   ]
  },
  {
   "cell_type": "code",
   "execution_count": null,
   "id": "f9d8c9b5",
   "metadata": {},
   "outputs": [],
   "source": [
    "prob.solve(solver=\"Random\", msg=True, lowerbound=0, timelimit=1)\n",
    "print(\"s =\", flopt.Value(s))"
   ]
  },
  {
   "cell_type": "markdown",
   "id": "84f10e6d",
   "metadata": {},
   "source": [
    "### Solve using LP Search"
   ]
  },
  {
   "cell_type": "markdown",
   "id": "52b9aa2a",
   "metadata": {},
   "source": [
    "To make sure we obtain the optimal solution, we can use LP Solver to convert problem after linearizing the problem.<br>\n",
    "First, we linearize the objective function and constraints by flopt.convert.linearize.<br>\n",
    "To linearize the product of spin variables, flopt replace spin variables to binary variables and add slack variables and constrains."
   ]
  },
  {
   "cell_type": "code",
   "execution_count": null,
   "id": "fb3b9246",
   "metadata": {},
   "outputs": [],
   "source": [
    "import flopt.convert\n",
    "\n",
    "flopt.convert.linearize(prob)\n",
    "\n",
    "prob.show()\n",
    "\n",
    "prob.solve(solver=\"auto\", msg=True)\n",
    "print(\"s= \", flopt.Value(s))"
   ]
  },
  {
   "cell_type": "markdown",
   "id": "fba4bbb7",
   "metadata": {},
   "source": [
    "### Convert another folumation of number partitioning"
   ]
  },
  {
   "cell_type": "code",
   "execution_count": null,
   "id": "f529969f",
   "metadata": {},
   "outputs": [],
   "source": [
    "# QP\n",
    "import flopt.convert\n",
    "\n",
    "s = flopt.Variable.array(\"x\", len(A), cat=\"Spin\")\n",
    "prob = flopt.Problem(\"Number Partitioning\")\n",
    "prob += flopt.Dot(s, A) ** 2\n",
    "\n",
    "# create QpStructure after binarize problem\n",
    "flopt.convert.binarize(prob)\n",
    "qp = flopt.convert.QpStructure.fromFlopt(prob)\n",
    "\n",
    "print(qp.show())\n",
    "\n",
    "# ising\n",
    "ising = flopt.convert.IsingStructure.fromFlopt(prob)\n",
    "\n",
    "print(ising.show())\n",
    "\n",
    "# QUBO\n",
    "qubo = flopt.convert.QuboStructure.fromFlopt(prob)\n",
    "\n",
    "print(qubo.show())"
   ]
  },
  {
   "cell_type": "markdown",
   "id": "c35f72d9",
   "metadata": {},
   "source": [
    "## Maximum-Cut"
   ]
  },
  {
   "cell_type": "markdown",
   "id": "2b384dbc",
   "metadata": {},
   "source": [
    "Maximum-Cut is the problem of maximizing the weights of edges between different groups when partitioning into two subsets in a given vertex set of graph."
   ]
  },
  {
   "cell_type": "markdown",
   "id": "fde40fc1",
   "metadata": {},
   "source": [
    "### Simple Example"
   ]
  },
  {
   "cell_type": "markdown",
   "id": "8fca15f3",
   "metadata": {},
   "source": [
    "First, let's we solve the maximum-cut of following simple graph."
   ]
  },
  {
   "cell_type": "code",
   "execution_count": null,
   "id": "705422eb",
   "metadata": {},
   "outputs": [],
   "source": [
    "data = \"\"\"5 6\n",
    "1 2 1\n",
    "1 4 1 \n",
    "2 3 1 \n",
    "2 4 1\n",
    "3 5 1\n",
    "4 5 1\n",
    "\"\"\"\n",
    "\n",
    "import networkx\n",
    "import matplotlib.pyplot as plt\n",
    "\n",
    "# create networkx graph\n",
    "G = networkx.Graph()\n",
    "f = iter(data.split(\"\\n\"))\n",
    "N, E = map(int, next(f).split())  # N is the number of vartexes, and E is the number of edges\n",
    "for e in range(E):\n",
    "    i, j, w = map(int, next(f).split())\n",
    "    G.add_edge(i, j, weight=w)\n",
    "\n",
    "# plot the graph\n",
    "fig, ax = plt.subplots()\n",
    "pos = {1: (0, 1), 2: (1, 2), 3: (2, 2), 4: (1, 0), 5: (2, 0)}\n",
    "networkx.draw_networkx(G, pos, with_labels=True, node_color=\"white\", edgecolors=\"black\")\n",
    "ax.set_title(\"Example simple Graph\")"
   ]
  },
  {
   "cell_type": "markdown",
   "id": "95209a8e",
   "metadata": {},
   "source": [
    "We divide these five vertexes into two groups, $S$ and $T$.<br>\n",
    "We create spin variables $s_i$ which takes +1 or -1 value corresponding to the vertex $i$ of the graph.\n",
    "\n",
    "\\begin{equation}\n",
    "s_i = \n",
    "\\left\\{\n",
    "    \\begin{aligned}\n",
    "    & +1 \\quad (i \\in S)\\\\\n",
    "    & -1 \\quad (i \\in T)\\\\\n",
    "    \\end{aligned}\n",
    "\\right.\n",
    "\\end{equation}\n",
    "\n",
    "Then, $(1 - s_i s_j)$ takes 0 when vertex $i$ and $j$ are belong to same group, and takes 1 when these vertexes are belongs to different groups.<br>\n",
    "Hence, the maximum cut problem is formulated as \n",
    "\n",
    "\\begin{align}\n",
    "    \\displaystyle \\max \\sum_{i < j} w_{i, j} (1 - s_i s_j), \n",
    "\\end{align}\n",
    "where $w_{i, j}$ is the weight of edge $(i, j)$."
   ]
  },
  {
   "cell_type": "markdown",
   "id": "612b480f",
   "metadata": {},
   "source": [
    "We will model this problem by flopt.<br>\n",
    "We, first, create the \"Spin\" variables."
   ]
  },
  {
   "cell_type": "code",
   "execution_count": null,
   "id": "679c52d0",
   "metadata": {},
   "outputs": [],
   "source": [
    "from flopt import Variable\n",
    "\n",
    "G = networkx.Graph()\n",
    "f = iter(data.split(\"\\n\"))\n",
    "N, E = map(int, next(f).split()) # N is the number of vartexes, and E is the number of edges\n",
    "\n",
    "s = Variable.array(\"s\", N, cat=\"Spin\", ini_value=1)\n",
    "print(s)"
   ]
  },
  {
   "cell_type": "markdown",
   "id": "024e77c2",
   "metadata": {},
   "source": [
    "Next, we create objective function."
   ]
  },
  {
   "cell_type": "code",
   "execution_count": null,
   "id": "a5fe1383",
   "metadata": {},
   "outputs": [],
   "source": [
    "obj = 0\n",
    "for e in range(E):\n",
    "    i, j, w = map(int, next(f).split())\n",
    "    obj += w * (1 - s[i-1] * s[j-1])\n",
    "    \n",
    "print(obj)"
   ]
  },
  {
   "cell_type": "markdown",
   "id": "5f61a249",
   "metadata": {},
   "source": [
    "Finally, we create problem object and solve it using \"Random\" solver."
   ]
  },
  {
   "cell_type": "code",
   "execution_count": null,
   "id": "3c4bc19f",
   "metadata": {},
   "outputs": [],
   "source": [
    "from flopt import Problem, Maximize\n",
    "\n",
    "# create problem\n",
    "prob = Problem(sense=Maximize)\n",
    "prob += obj\n",
    "\n",
    "# solve\n",
    "staus, log = prob.solve(solver=\"Random\", timelimit=1)"
   ]
  },
  {
   "cell_type": "code",
   "execution_count": null,
   "id": "a5ccd8a5",
   "metadata": {},
   "outputs": [],
   "source": [
    "from flopt import Value\n",
    "\n",
    "print(\"result = \", Value(s))"
   ]
  },
  {
   "cell_type": "code",
   "execution_count": null,
   "id": "3fe99266",
   "metadata": {},
   "outputs": [],
   "source": [
    "# plot the graph\n",
    "nodelist = [i+1 for i in range(N) if s[i].value() == 1]\n",
    "networkx.draw_networkx_nodes(G, pos, nodelist=nodelist, node_color=\"black\", ax=ax)\n",
    "ax.set_title(\"Result\")\n",
    "fig"
   ]
  },
  {
   "cell_type": "markdown",
   "id": "31e8484f",
   "metadata": {},
   "source": [
    "### Gset Benchmark"
   ]
  },
  {
   "cell_type": "markdown",
   "id": "79ef5816",
   "metadata": {},
   "source": [
    "Gset is the benchmark the maximize cut problem.<br>\n",
    "We can download the Gset benchmark as follows.\n",
    "\n",
    "shell code\n",
    "\n",
    "```bash\n",
    "mkdir Gset && cd Gset; for i in {1..81}; do wget http://web.stanford.edu/~yyye/yyye/Gset/G$1; done\n",
    "```"
   ]
  },
  {
   "cell_type": "code",
   "execution_count": null,
   "id": "d5ec3434",
   "metadata": {},
   "outputs": [],
   "source": [
    "!mkdir Gset && cd Gset; for i in {1..81}; do wget -q http://web.stanford.edu/~yyye/yyye/Gset/G$i; done"
   ]
  },
  {
   "cell_type": "code",
   "execution_count": null,
   "id": "c1b2befd",
   "metadata": {},
   "outputs": [],
   "source": [
    "# select problem\n",
    "file = \"./Gset/G11\""
   ]
  },
  {
   "cell_type": "code",
   "execution_count": null,
   "id": "ca8e9951",
   "metadata": {},
   "outputs": [],
   "source": [
    "from flopt import *\n",
    "\n",
    "def loader(f, n):\n",
    "    for i in range(n):\n",
    "        yield map(int, next(f).split())\n",
    "\n",
    "# load problem, and create spin variables and objective function\n",
    "with open(file, \"r\") as f:\n",
    "    N, E = map(int, next(f).split())\n",
    "    s = Variable.array(\"s\", N, cat=\"Spin\")\n",
    "    obj = 0.5 * Sum(w * (1 - s[i-1] * s[j-1]) for i, j, w in loader(f, E))\n",
    "    \n",
    "# create Problem\n",
    "prob = Problem(sense=Maximize)\n",
    "prob += obj\n",
    "\n",
    "prob.show()"
   ]
  },
  {
   "cell_type": "code",
   "execution_count": null,
   "id": "355e033b",
   "metadata": {},
   "outputs": [],
   "source": [
    "# select algorithm to search and solve\n",
    "status, log = prob.solve(solver=\"Random\", timelimit=10, msg=True)"
   ]
  },
  {
   "cell_type": "code",
   "execution_count": null,
   "id": "5e88939a",
   "metadata": {
    "scrolled": true
   },
   "outputs": [],
   "source": [
    "# plot the transition of incumbent values\n",
    "fig, ax = log.plot(label=\"incumbents\", marker=\"o\", linestyle=\"--\")"
   ]
  },
  {
   "cell_type": "markdown",
   "id": "c42e92cc",
   "metadata": {},
   "source": [
    "### Convert another formulations"
   ]
  },
  {
   "cell_type": "markdown",
   "id": "050f7272",
   "metadata": {},
   "source": [
    "We can obtain the data for the another formulation using flopt.convert, for example ising structure.<br>\n",
    "\n",
    "minimize $- x^T J x - h^T x + C$"
   ]
  },
  {
   "cell_type": "code",
   "execution_count": null,
   "id": "5b45f11f",
   "metadata": {},
   "outputs": [],
   "source": [
    "import flopt.convert\n",
    "\n",
    "ising = flopt.convert.IsingStructure.fromFlopt(prob)\n",
    "# print(ising.J)\n",
    "# print(ising.h)\n",
    "# print(ising.x)"
   ]
  },
  {
   "cell_type": "markdown",
   "id": "8d3027fb",
   "metadata": {},
   "source": [
    "When you have the solution by your algorithm or other applications, you can input the value to the spin variable of flopt."
   ]
  },
  {
   "cell_type": "code",
   "execution_count": null,
   "id": "0164168a",
   "metadata": {},
   "outputs": [],
   "source": [
    "values = [...]  # solution; list of values\n",
    "for var, value in zip(ising.x, values):\n",
    "    var.setValue(value)"
   ]
  },
  {
   "cell_type": "markdown",
   "id": "42dc3f0e",
   "metadata": {},
   "source": [
    "## Newton's method"
   ]
  },
  {
   "cell_type": "code",
   "execution_count": null,
   "id": "8e358964",
   "metadata": {},
   "outputs": [],
   "source": [
    "import flopt\n",
    "\n",
    "# define f\n",
    "def f(x):\n",
    "    return x * x - 2\n",
    "\n",
    "# define variable with initial value\n",
    "x = flopt.Variable(\"x\", ini_value=100)\n",
    "\n",
    "# obtain jacobian function\n",
    "jac = f(x).jac([x])\n",
    "\n",
    "for roop in range(10):\n",
    "    # update x\n",
    "    x.setValue((x - f(x) / jac).value())\n",
    "    print(f'roop {roop},  x = {x.value()}')"
   ]
  },
  {
   "cell_type": "code",
   "execution_count": null,
   "id": "2d1af3df",
   "metadata": {},
   "outputs": [],
   "source": []
  }
 ],
 "metadata": {
  "kernelspec": {
   "display_name": "Python 3 (ipykernel)",
   "language": "python",
   "name": "python3"
  },
  "language_info": {
   "codemirror_mode": {
    "name": "ipython",
    "version": 3
   },
   "file_extension": ".py",
   "mimetype": "text/x-python",
   "name": "python",
   "nbconvert_exporter": "python",
   "pygments_lexer": "ipython3",
   "version": "3.10.5"
  },
  "toc": {
   "base_numbering": 1,
   "nav_menu": {},
   "number_sections": true,
   "sideBar": true,
   "skip_h1_title": false,
   "title_cell": "Table of Contents",
   "title_sidebar": "Contents",
   "toc_cell": false,
   "toc_position": {
    "height": "calc(100% - 180px)",
    "left": "10px",
    "top": "150px",
    "width": "198px"
   },
   "toc_section_display": true,
   "toc_window_display": true
  }
 },
 "nbformat": 4,
 "nbformat_minor": 5
}
