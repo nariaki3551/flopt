{
 "cells": [
  {
   "cell_type": "markdown",
   "id": "b3090d6b",
   "metadata": {},
   "source": [
    "# Tutorial"
   ]
  },
  {
   "cell_type": "markdown",
   "id": "3fe6eafc",
   "metadata": {},
   "source": [
    "## Declaration problem and solving"
   ]
  },
  {
   "cell_type": "markdown",
   "id": "03ab7f76",
   "metadata": {},
   "source": [
    "### [(Non) Linear Problem](https://flopt.readthedocs.io/en/latest/tutorial/nlp.html#non-linear-problem)"
   ]
  },
  {
   "cell_type": "markdown",
   "id": "e5a20e6d",
   "metadata": {},
   "source": [
    "The problem we solve is as follows.\n",
    "\n",
    "```\n",
    "minimize  2*(3*a+b)*c**2 + 3\n",
    "s.t.      0 <= a <= 1, a is integer\n",
    "          1 <= b <= 2, b is continuous\n",
    "          1 <= c <= 3, c is continuous\n",
    "```"
   ]
  },
  {
   "cell_type": "code",
   "execution_count": null,
   "id": "b06ff7ac",
   "metadata": {},
   "outputs": [],
   "source": [
    "import flopt"
   ]
  },
  {
   "cell_type": "markdown",
   "id": "3e1e9a7b",
   "metadata": {},
   "source": [
    "create variables a, b and c"
   ]
  },
  {
   "cell_type": "code",
   "execution_count": null,
   "id": "bae78563",
   "metadata": {},
   "outputs": [],
   "source": [
    "a = flopt.Variable(name=\"a\", lowBound=0, upBound=1, cat=\"Integer\")\n",
    "b = flopt.Variable(name=\"b\", lowBound=1, upBound=2, cat=\"Continuous\")\n",
    "c = flopt.Variable(name=\"c\", lowBound=1, upBound=3, cat=\"Continuous\")"
   ]
  },
  {
   "cell_type": "markdown",
   "id": "0288d82d",
   "metadata": {},
   "source": [
    "create problem and set objective function"
   ]
  },
  {
   "cell_type": "code",
   "execution_count": null,
   "id": "8f944b11",
   "metadata": {},
   "outputs": [],
   "source": [
    "prob = flopt.Problem(name=\"Test\")\n",
    "\n",
    "# set objective function\n",
    "prob += 2*(3*a+b)*c**2+3"
   ]
  },
  {
   "cell_type": "markdown",
   "id": "2c11a9ab",
   "metadata": {},
   "source": [
    "run solver with standard output by solver"
   ]
  },
  {
   "cell_type": "code",
   "execution_count": null,
   "id": "8b538c1d",
   "metadata": {},
   "outputs": [],
   "source": [
    "status, logs = prob.solve(timelimit=1, msg=True)"
   ]
  },
  {
   "cell_type": "markdown",
   "id": "57aaa89d",
   "metadata": {},
   "source": [
    "status of solution"
   ]
  },
  {
   "cell_type": "code",
   "execution_count": null,
   "id": "1c81440d",
   "metadata": {},
   "outputs": [],
   "source": [
    "print(status)"
   ]
  },
  {
   "cell_type": "markdown",
   "id": "f9d17ecd",
   "metadata": {},
   "source": [
    "get best objective function value"
   ]
  },
  {
   "cell_type": "code",
   "execution_count": null,
   "id": "f40305cc",
   "metadata": {},
   "outputs": [],
   "source": [
    "print(\"obj value = \", prob.getObjectiveValue())"
   ]
  },
  {
   "cell_type": "markdown",
   "id": "8bbbf497",
   "metadata": {},
   "source": [
    "get variable's value of that best solution"
   ]
  },
  {
   "cell_type": "code",
   "execution_count": null,
   "id": "4738cef7",
   "metadata": {},
   "outputs": [],
   "source": [
    "print(\"a =\", a.value())  # flopt.Value(a)\n",
    "print(\"b =\", b.value())\n",
    "print(\"c =\", c.value())"
   ]
  },
  {
   "cell_type": "code",
   "execution_count": null,
   "id": "786060aa",
   "metadata": {},
   "outputs": [],
   "source": [
    "# show the transition of objetive values of incumbent solutions\n",
    "fig, ax = logs.plot(label=\"objective value of best solution\", marker=\"o\", linestyle=\"--\")"
   ]
  },
  {
   "cell_type": "markdown",
   "id": "35b9cdce",
   "metadata": {},
   "source": [
    "When you select algorithm to solve problem, you create a Solver object and specify it as solver parameter in problem.solve()."
   ]
  },
  {
   "cell_type": "code",
   "execution_count": null,
   "id": "041ab8df",
   "metadata": {},
   "outputs": [],
   "source": [
    "solver = flopt.Solver(algo=\"Random\")  #  searching algorithm selected by flopt\n",
    "prob.solve(solver=solver, timelimit=1, msg=1)"
   ]
  },
  {
   "cell_type": "markdown",
   "id": "3fc59da1",
   "metadata": {},
   "source": [
    "### [(Non) Linear Problem with Constraints](https://flopt.readthedocs.io/en/latest/tutorial/nlp_constraint.html#non-linear-problem-with-constraints)"
   ]
  },
  {
   "cell_type": "markdown",
   "id": "040c78a9",
   "metadata": {},
   "source": [
    "```\n",
    "minimize  2*(3*a+b**2) + 3\n",
    "s.t.      a * b >= 2\n",
    "          a + b >= 2\n",
    "          0 <= a <= 1, a is integer\n",
    "          1 <= b <= 2, b is continuous\n",
    "```\n",
    "\n",
    "We have constraints a * b >= 2 and a +b >= 2."
   ]
  },
  {
   "cell_type": "code",
   "execution_count": null,
   "id": "82bdcf5a",
   "metadata": {},
   "outputs": [],
   "source": [
    "import flopt"
   ]
  },
  {
   "cell_type": "code",
   "execution_count": null,
   "id": "87df248c",
   "metadata": {},
   "outputs": [],
   "source": [
    "# variables\n",
    "a = flopt.Variable(\"a\", 0, 1, cat=\"Continuous\")\n",
    "b = flopt.Variable(\"b\", 1, 2, cat=\"Continuous\")\n",
    "\n",
    "# problem\n",
    "prob = flopt.Problem(name=\"Test\")\n",
    "prob += 2*(3*a+b**2)+3  # set the objective function\n",
    "prob += a*b >= 2      # add constraint\n",
    "prob += a+b >= 2      # add constraint\n",
    "\n",
    "# solver setting\n",
    "solver = flopt.Solver(algo=\"Scipy\")  # select the scipy function\n",
    "solver.setParams(n_iter=10)  # select the scipy function\n",
    "\n",
    "# run solver\n",
    "prob.solve(solver, timelimit=10)\n",
    "\n",
    "# get best solution\n",
    "print(\"obj value　=\", prob.getObjectiveValue())\n",
    "print(\"a =\", a.value())\n",
    "print(\"b =\", b.value())"
   ]
  },
  {
   "cell_type": "markdown",
   "id": "8580be23",
   "metadata": {},
   "source": [
    "show the details of problem"
   ]
  },
  {
   "cell_type": "code",
   "execution_count": null,
   "id": "b948c259",
   "metadata": {},
   "outputs": [],
   "source": [
    "prob.show()"
   ]
  },
  {
   "cell_type": "markdown",
   "id": "d37b8846",
   "metadata": {},
   "source": [
    "get the solvers that can solve this problem"
   ]
  },
  {
   "cell_type": "code",
   "execution_count": null,
   "id": "137a4226",
   "metadata": {},
   "outputs": [],
   "source": [
    "flopt.allAvailableSolvers(prob)"
   ]
  },
  {
   "cell_type": "markdown",
   "id": "c9527fbc",
   "metadata": {},
   "source": [
    "#### AutoSearch (default solver)"
   ]
  },
  {
   "cell_type": "markdown",
   "id": "a20ca551",
   "metadata": {},
   "source": [
    "select appropriate solver for the problem"
   ]
  },
  {
   "cell_type": "code",
   "execution_count": null,
   "id": "a1476889",
   "metadata": {},
   "outputs": [],
   "source": [
    "# variables\n",
    "a = flopt.Variable(\"a\", 0, 1, cat=\"Continuous\")\n",
    "b = flopt.Variable(\"b\", 1, 2, cat=\"Continuous\")\n",
    "\n",
    "# problem\n",
    "prob = flopt.Problem(name=\"Test\")\n",
    "prob += 2*a + 3*b # set the objective function"
   ]
  },
  {
   "cell_type": "code",
   "execution_count": null,
   "id": "4e8e7c4d",
   "metadata": {},
   "outputs": [],
   "source": [
    "# solver setting\n",
    "solver = flopt.Solver(algo=\"auto\")\n",
    "solver.setParams(timelimit=1)\n",
    "solver.select(prob).name"
   ]
  },
  {
   "cell_type": "code",
   "execution_count": null,
   "id": "24b0ca54",
   "metadata": {},
   "outputs": [],
   "source": [
    "flopt.allAvailableSolvers(prob)"
   ]
  },
  {
   "cell_type": "markdown",
   "id": "4641d94a",
   "metadata": {},
   "source": [
    "### [Black Box Optimization Problem](file:///Users/tateiwa/Documents/flopt_dev/docs/_build/html/tutorial/black_box.html#black-box-optimization-problem)"
   ]
  },
  {
   "cell_type": "markdown",
   "id": "b49e2df8",
   "metadata": {},
   "source": [
    "```\n",
    "minimize  simulator(a, b)\n",
    "s.t.      0 <= a <= 1, a is integer\n",
    "          1 <= b <= 2, b is continuous\n",
    "```"
   ]
  },
  {
   "cell_type": "code",
   "execution_count": null,
   "id": "cf581a9c",
   "metadata": {},
   "outputs": [],
   "source": [
    "import flopt"
   ]
  },
  {
   "cell_type": "code",
   "execution_count": null,
   "id": "1f676e31",
   "metadata": {},
   "outputs": [],
   "source": [
    "# variables\n",
    "a = flopt.Variable(name=\"a\", lowBound=1, upBound=3, cat=\"Integer\")\n",
    "b = flopt.Variable(name=\"b\", lowBound=1, upBound=2, cat=\"Continuous\")\n",
    "\n",
    "# problem\n",
    "prob = flopt.Problem(name=\"CustomExpression\")"
   ]
  },
  {
   "cell_type": "markdown",
   "id": "3ea1c1dc",
   "metadata": {},
   "source": [
    "create CustomExpression to represetn blackbox function.<br>\n",
    "In this tutorial, we use simple function as blackbox."
   ]
  },
  {
   "cell_type": "code",
   "execution_count": null,
   "id": "1269f5b8",
   "metadata": {},
   "outputs": [],
   "source": [
    "def blackbox(a, b):\n",
    "    import math\n",
    "    return math.sin(a ** b)\n",
    "\n",
    "def simulator(a, b):\n",
    "    return blackbox(a, b)\n",
    "\n",
    "custom_obj = flopt.CustomExpression(func=simulator, arg=[a, b])\n",
    "print(custom_obj)"
   ]
  },
  {
   "cell_type": "code",
   "execution_count": null,
   "id": "e3f0306c",
   "metadata": {},
   "outputs": [],
   "source": [
    "# set objective function\n",
    "prob += custom_obj"
   ]
  },
  {
   "cell_type": "code",
   "execution_count": null,
   "id": "4d5cf2cf",
   "metadata": {},
   "outputs": [],
   "source": [
    "# run solver\n",
    "prob.solve(timelimit=1, msg=True)\n",
    "\n",
    "# get best solution\n",
    "print(\"obj value =\", prob.getObjectiveValue())\n",
    "print(\"a =\", a.value())\n",
    "print(\"b =\", b.value())"
   ]
  },
  {
   "cell_type": "markdown",
   "id": "3be00c09",
   "metadata": {},
   "source": [
    "When the function has a list of variables as arguments, we have the following."
   ]
  },
  {
   "cell_type": "code",
   "execution_count": null,
   "id": "491c2727",
   "metadata": {},
   "outputs": [],
   "source": [
    "# problem\n",
    "prob = flopt.Problem(name=\"CustomExpression2\")\n",
    "\n",
    "# set objective function\n",
    "def blackbox(a, b):\n",
    "    import math\n",
    "    return math.sin(a ** b)\n",
    "\n",
    "def simulator(x):\n",
    "    return blackbox(x[0], x[1])\n",
    "\n",
    "x = [a, b]\n",
    "custom_obj = flopt.CustomExpression(func=simulator, arg=[x])\n",
    "prob += custom_obj\n",
    "\n",
    "# run solver\n",
    "prob.solve(timelimit=1, msg=True)"
   ]
  },
  {
   "cell_type": "code",
   "execution_count": null,
   "id": "0049acd0",
   "metadata": {},
   "outputs": [],
   "source": [
    "# problem\n",
    "prob = flopt.Problem(name=\"CustomExpression3\")\n",
    "\n",
    "# set objective function\n",
    "def blackbox(a, b):\n",
    "    import math\n",
    "    return math.sin(a ** b)\n",
    "\n",
    "def simulator(x, y):\n",
    "    return blackbox(x[0], x[1]) + blackbox(y[0], y[1])\n",
    "\n",
    "x = [a, b]\n",
    "y = [b, a]\n",
    "custom_obj = flopt.CustomExpression(func=simulator, arg=[x, y])\n",
    "prob += custom_obj\n",
    "\n",
    "# run solver\n",
    "prob.solve(timelimit=1, msg=True)"
   ]
  },
  {
   "cell_type": "markdown",
   "id": "8bb84eff",
   "metadata": {},
   "source": [
    "### [Permutation Optimization Problem](https://flopt.readthedocs.io/en/latest/tutorial/permutation.html)"
   ]
  },
  {
   "cell_type": "markdown",
   "id": "9ea88227",
   "metadata": {},
   "source": [
    "```\n",
    "minimize the total distance of routing the cities.\n",
    "s.t.     We have to visit every city one time.\n",
    "         we have the distance between all the cities.\n",
    "```"
   ]
  },
  {
   "cell_type": "code",
   "execution_count": null,
   "id": "dec3ef78",
   "metadata": {},
   "outputs": [],
   "source": [
    "# We have the distance matrix D, and the number of city is N\n",
    "N = 4\n",
    "D = [\n",
    "    [0.0, 3.0, 2.0, 1.0],\n",
    "    [2.0, 0.0, 1.0, 1.0],\n",
    "    [1.0, 3.0, 0.0, 4.0],\n",
    "    [1.0, 1.0, 2.0, 1.0],\n",
    "]"
   ]
  },
  {
   "cell_type": "code",
   "execution_count": null,
   "id": "ece3c7fd",
   "metadata": {},
   "outputs": [],
   "source": [
    "import flopt"
   ]
  },
  {
   "cell_type": "code",
   "execution_count": null,
   "id": "cac411eb",
   "metadata": {},
   "outputs": [],
   "source": [
    "prob = flopt.Problem(name=\"TSP\")"
   ]
  },
  {
   "cell_type": "markdown",
   "id": "02aba834",
   "metadata": {},
   "source": [
    "create permutation variable"
   ]
  },
  {
   "cell_type": "code",
   "execution_count": null,
   "id": "94fce20c",
   "metadata": {},
   "outputs": [],
   "source": [
    "perm = flopt.Variable(\"perm\", lowBound=0, upBound=N-1, cat=\"Permutation\")"
   ]
  },
  {
   "cell_type": "markdown",
   "id": "93ae976a",
   "metadata": {},
   "source": [
    "set objective function using CustomeExpression"
   ]
  },
  {
   "cell_type": "code",
   "execution_count": null,
   "id": "53e1c99c",
   "metadata": {},
   "outputs": [],
   "source": [
    "def tsp_dist(perm):\n",
    "    distance = 0\n",
    "    for head, tail in zip(perm, perm[1:]+[perm[0]]):\n",
    "        distance += D[head][tail]  # D is the distance matrix\n",
    "    return distance\n",
    "\n",
    "tsp_obj = flopt.CustomExpression(func=tsp_dist, arg=[perm])\n",
    "prob += tsp_obj"
   ]
  },
  {
   "cell_type": "markdown",
   "id": "4f50d19f",
   "metadata": {},
   "source": [
    "run 2-OPT solver"
   ]
  },
  {
   "cell_type": "code",
   "execution_count": null,
   "id": "ac7dc57e",
   "metadata": {},
   "outputs": [],
   "source": [
    "# run solver\n",
    "prob.solve(solver=\"2-Opt\", timelimit=3, msg=True)\n",
    "\n",
    "# Get result\n",
    "print(\"result = \", perm.value())"
   ]
  },
  {
   "cell_type": "markdown",
   "id": "33bd1e6f",
   "metadata": {},
   "source": [
    "### [Max Satisfiability Problem](https://flopt.readthedocs.io/en/latest/tutorial/max_satisfiability.html)"
   ]
  },
  {
   "cell_type": "markdown",
   "id": "21715b05",
   "metadata": {},
   "source": [
    "```\n",
    "maximize (c1+2*c2+3*c3+4*c4)\n",
    "s.t.     c1 = x0 or x1\n",
    "         c2 = x0 or not x1\n",
    "         c3 = not x0 or x1\n",
    "         c4 = not x0 or not x1\n",
    "         x0, x1 is Binary\n",
    "```"
   ]
  },
  {
   "cell_type": "code",
   "execution_count": null,
   "id": "3c04e27a",
   "metadata": {},
   "outputs": [],
   "source": [
    "import flopt"
   ]
  },
  {
   "cell_type": "code",
   "execution_count": null,
   "id": "529f7cfe",
   "metadata": {},
   "outputs": [],
   "source": [
    "prob = flopt.Problem(\"MaxSat\", sense=\"Maximize\")"
   ]
  },
  {
   "cell_type": "code",
   "execution_count": null,
   "id": "926f5888",
   "metadata": {},
   "outputs": [],
   "source": [
    "# literals\n",
    "x0 = flopt.Variable(\"x0\", cat=\"Binary\")\n",
    "x1 = flopt.Variable(\"x1\", cat=\"Binary\")"
   ]
  },
  {
   "cell_type": "code",
   "execution_count": null,
   "id": "fe5db9a0",
   "metadata": {},
   "outputs": [],
   "source": [
    "# clauses\n",
    "c1 = x0 | x1\n",
    "c2 = x0 | ~x1\n",
    "c3 = ~x0 | x1\n",
    "c4 = ~x0 | ~x1\n",
    "\n",
    "print(c2)"
   ]
  },
  {
   "cell_type": "code",
   "execution_count": null,
   "id": "2670455d",
   "metadata": {},
   "outputs": [],
   "source": [
    "# create objective function\n",
    "clauses = [c1, c2, c3, c4]\n",
    "weights = [1, 2, 3, 4]\n",
    "obj = sum(w*c for c, w in zip(clauses, weights))  # or flopt.Dot(clauses, weights)\n",
    "print(obj)"
   ]
  },
  {
   "cell_type": "code",
   "execution_count": null,
   "id": "cc85f9dc",
   "metadata": {},
   "outputs": [],
   "source": [
    "# set objective function\n",
    "prob += obj\n",
    "\n",
    "# run solver\n",
    "prob.solve(solver=\"Random\", timelimit=2, msg=True)\n",
    "\n",
    "print(\"value x0\", x0.value())\n",
    "print(\"value x1\", x1.value())\n",
    "print()\n",
    "for clause in clauses:\n",
    "    print(f\"{clause} = {clause.value()}\")"
   ]
  },
  {
   "cell_type": "markdown",
   "id": "ab29ed03",
   "metadata": {},
   "source": [
    "### [Expression Examples](https://flopt.readthedocs.io/en/latest/tutorial/expression_examples.html#expression-examples)"
   ]
  },
  {
   "cell_type": "code",
   "execution_count": null,
   "id": "ada22084",
   "metadata": {},
   "outputs": [],
   "source": [
    "import flopt"
   ]
  },
  {
   "cell_type": "markdown",
   "id": "9e70010c",
   "metadata": {},
   "source": [
    "$f = \\sum_i x_i$"
   ]
  },
  {
   "cell_type": "code",
   "execution_count": null,
   "id": "bb9f35f9",
   "metadata": {},
   "outputs": [],
   "source": [
    "x = flopt.Variable.array('x', 4)\n",
    "f = flopt.Sum(x)\n",
    "print(f)"
   ]
  },
  {
   "cell_type": "markdown",
   "id": "5feae28b",
   "metadata": {},
   "source": [
    "$f = \\sum_i \\sum_j x_i x_j$"
   ]
  },
  {
   "cell_type": "code",
   "execution_count": null,
   "id": "1c1b453e",
   "metadata": {},
   "outputs": [],
   "source": [
    "import itertools\n",
    "x = flopt.Variable.array(\"x\", 3)\n",
    "f = flopt.Sum(xi * xj for xi, xj in itertools.product(x, x))\n",
    "print(f)"
   ]
  },
  {
   "cell_type": "code",
   "execution_count": null,
   "id": "00301148",
   "metadata": {},
   "outputs": [],
   "source": [
    "x = flopt.Variable.array(\"x\", (3, 1))\n",
    "f = flopt.Sum(x.dot(x.T))\n",
    "print(f)"
   ]
  },
  {
   "cell_type": "markdown",
   "id": "16891e65",
   "metadata": {},
   "source": [
    "$f = \\sum_i \\left( \\sum_j x_{ij} -1 \\right) ^2$"
   ]
  },
  {
   "cell_type": "code",
   "execution_count": null,
   "id": "ff339277",
   "metadata": {},
   "outputs": [],
   "source": [
    "x = flopt.Variable.matrix(\"x\", 2, 2)\n",
    "f = flopt.Sum( (flopt.Sum(xi) - 1) ** 2 for xi in x )\n",
    "print(f)"
   ]
  },
  {
   "cell_type": "markdown",
   "id": "8f0eacb2",
   "metadata": {},
   "source": [
    "$f = \\sum_{i \\neq j}x_i x_j$"
   ]
  },
  {
   "cell_type": "code",
   "execution_count": null,
   "id": "66e46713",
   "metadata": {},
   "outputs": [],
   "source": [
    "import itertools\n",
    "x = flopt.Variable.array(\"x\", 3)\n",
    "f = flopt.Sum(xi * xj for xi, xj in itertools.combinations(x, 2))\n",
    "print(f)"
   ]
  },
  {
   "cell_type": "markdown",
   "id": "433e0e14",
   "metadata": {},
   "source": [
    "$f = \\prod_i x_i$"
   ]
  },
  {
   "cell_type": "code",
   "execution_count": null,
   "id": "ed7b07a5",
   "metadata": {
    "scrolled": true
   },
   "outputs": [],
   "source": [
    "x = flopt.Variable.array(\"x\", 3)\n",
    "f = flopt.Prod(x)\n",
    "print(f)"
   ]
  },
  {
   "cell_type": "markdown",
   "id": "ffb144c0",
   "metadata": {},
   "source": [
    "show the calcration graph"
   ]
  },
  {
   "cell_type": "code",
   "execution_count": null,
   "id": "045fbaca",
   "metadata": {},
   "outputs": [],
   "source": [
    "import flopt\n",
    "import itertools\n",
    "x = flopt.Variable.array(\"x\", 3)\n",
    "f = flopt.Sum(xi * xj for xi, xj in itertools.product(x, x))\n",
    "\n",
    "flopt.get_dot_graph(f, \"tmp.txt\")\n",
    "!dot tmp.txt -T png -o tmp.png\n",
    "\n",
    "from IPython.display import Image\n",
    "Image(\"./tmp.png\")"
   ]
  },
  {
   "cell_type": "code",
   "execution_count": null,
   "id": "824d88fb",
   "metadata": {},
   "outputs": [],
   "source": [
    "f = flopt.cos(flopt.sum(xi * xj for xi, xj in itertools.product(x, x)))\n",
    "\n",
    "flopt.get_dot_graph(f, \"tmp.txt\")\n",
    "!dot tmp.txt -T png -o tmp.png\n",
    "\n",
    "from IPython.display import Image\n",
    "Image(\"./tmp.png\")"
   ]
  },
  {
   "cell_type": "markdown",
   "id": "53acf580",
   "metadata": {},
   "source": [
    "### Solver"
   ]
  },
  {
   "cell_type": "code",
   "execution_count": null,
   "id": "2f3362dc",
   "metadata": {},
   "outputs": [],
   "source": [
    "import flopt"
   ]
  },
  {
   "cell_type": "markdown",
   "id": "7128dc08",
   "metadata": {},
   "source": [
    "show all available solvers "
   ]
  },
  {
   "cell_type": "code",
   "execution_count": null,
   "id": "e9d25457",
   "metadata": {},
   "outputs": [],
   "source": [
    "flopt.Solver_list()"
   ]
  },
  {
   "cell_type": "code",
   "execution_count": null,
   "id": "66f6a83f",
   "metadata": {},
   "outputs": [],
   "source": [
    "a = flopt.Variable(\"a\", 0, 1, cat=\"Continuous\")\n",
    "b = flopt.Variable(\"b\", 1, 2, cat=\"Continuous\")\n",
    "\n",
    "prob = flopt.Problem(name=\"Test\")\n",
    "prob += 2*a + 3*b\n",
    "prob += a + b >= 1"
   ]
  },
  {
   "cell_type": "code",
   "execution_count": null,
   "id": "bfbb25bc",
   "metadata": {},
   "outputs": [],
   "source": [
    "flopt.allAvailableSolvers(prob)"
   ]
  },
  {
   "cell_type": "code",
   "execution_count": null,
   "id": "47d60d5c",
   "metadata": {},
   "outputs": [],
   "source": [
    "solver = flopt.Solver(algo=\"auto\")\n",
    "solver.setParams(timelimit=1)\n",
    "solver.select(prob).name"
   ]
  },
  {
   "cell_type": "markdown",
   "id": "814806f7",
   "metadata": {},
   "source": [
    "### Jacobian"
   ]
  },
  {
   "cell_type": "markdown",
   "id": "1142e343",
   "metadata": {},
   "source": [
    "$f = \\prod_i x_i \\Longrightarrow \\frac{\\partial}{\\partial x_j}f = \\prod_{i \\neq j} x_i$"
   ]
  },
  {
   "cell_type": "code",
   "execution_count": null,
   "id": "f75ecfe4",
   "metadata": {},
   "outputs": [],
   "source": [
    "x = flopt.Variable.array(\"x\", 3)\n",
    "f = flopt.Prod(x)\n",
    "\n",
    "jac = f.jac(x)\n",
    "print(\"jac[0] =\", jac[0].getName())\n",
    "print(\"jac[1] =\", jac[1].getName())\n",
    "print(\"jac[2] =\", jac[2].getName())"
   ]
  },
  {
   "cell_type": "code",
   "execution_count": null,
   "id": "ef8209a9",
   "metadata": {},
   "outputs": [],
   "source": [
    "hess = f.hess(x)\n",
    "print(\"jac[0] =\", hess[0, 0].getName())\n",
    "print(\"jac[1] =\", hess[1, 0].getName())\n",
    "print(\"jac[2] =\", hess[2, 0].getName())"
   ]
  },
  {
   "cell_type": "markdown",
   "id": "05ae7f9a",
   "metadata": {},
   "source": [
    "## Conversion to different formulations"
   ]
  },
  {
   "cell_type": "markdown",
   "id": "65d41050",
   "metadata": {},
   "source": [
    "### [Quadratic Programming (QP)](https://flopt.readthedocs.io/en/latest/tutorial/convert/qp.html)"
   ]
  },
  {
   "cell_type": "code",
   "execution_count": null,
   "id": "61fd2e6d",
   "metadata": {},
   "outputs": [],
   "source": [
    "import flopt\n",
    "\n",
    "# Variables\n",
    "a = flopt.Variable('a', lowBound=0, upBound=1, cat='Integer')\n",
    "b = flopt.Variable('b', lowBound=1, upBound=2, cat='Continuous')\n",
    "c = flopt.Variable('c', lowBound=1, upBound=3, cat='Continuous')\n",
    "\n",
    "# Problem\n",
    "prob = flopt.Problem()\n",
    "prob += a*a + a*b + b + c + 2\n",
    "prob += a + b <= 2\n",
    "prob += b - c == 3\n",
    "\n",
    "prob.show()"
   ]
  },
  {
   "cell_type": "code",
   "execution_count": null,
   "id": "5836e645",
   "metadata": {},
   "outputs": [],
   "source": [
    "from flopt.convert import QpStructure\n",
    "qp = QpStructure.fromFlopt(prob)\n",
    "\n",
    "print(qp.show())"
   ]
  },
  {
   "cell_type": "code",
   "execution_count": null,
   "id": "6d86ed5d",
   "metadata": {},
   "outputs": [],
   "source": [
    "print(qp.toAllEq().show())"
   ]
  },
  {
   "cell_type": "code",
   "execution_count": null,
   "id": "c1c5bc05",
   "metadata": {},
   "outputs": [],
   "source": [
    "print(qp.toAllNeq().show())"
   ]
  },
  {
   "cell_type": "markdown",
   "id": "f3fa3180",
   "metadata": {},
   "source": [
    "### [Linear Programmnig (LP)](https://flopt.readthedocs.io/en/latest/tutorial/convert/lp.html)"
   ]
  },
  {
   "cell_type": "code",
   "execution_count": null,
   "id": "28a0ec52",
   "metadata": {},
   "outputs": [],
   "source": [
    "import flopt\n",
    "\n",
    "# variables\n",
    "a = flopt.Variable(name=\"a\", lowBound=0, upBound=1, cat=\"Integer\")\n",
    "b = flopt.Variable(name=\"b\", lowBound=1, upBound=2, cat=\"Continuous\")\n",
    "c = flopt.Variable(name=\"c\", lowBound=1, upBound=3, cat=\"Continuous\")\n",
    "\n",
    "# problem\n",
    "prob = flopt.Problem(name=\"LP\")\n",
    "prob += a + b + c + 2\n",
    "prob += a + b == 2\n",
    "prob += b - c <= 3\n",
    "\n",
    "print(prob)"
   ]
  },
  {
   "cell_type": "markdown",
   "id": "f3879c9e",
   "metadata": {},
   "source": [
    "#### [flopt to LP](https://flopt.readthedocs.io/en/latest/tutorial/convert/lp.html#flopt-to-lp)"
   ]
  },
  {
   "cell_type": "code",
   "execution_count": null,
   "id": "bb50f96c",
   "metadata": {},
   "outputs": [],
   "source": [
    "from flopt.convert import LpStructure\n",
    "lp = LpStructure.fromFlopt(prob)\n",
    "\n",
    "print(lp.show())"
   ]
  },
  {
   "cell_type": "code",
   "execution_count": null,
   "id": "d638e4b1",
   "metadata": {},
   "outputs": [],
   "source": [
    "print(lp.toAllEq().show())"
   ]
  },
  {
   "cell_type": "code",
   "execution_count": null,
   "id": "9547517f",
   "metadata": {},
   "outputs": [],
   "source": [
    "print(lp.toAllNeq().toFlopt().show())"
   ]
  },
  {
   "cell_type": "code",
   "execution_count": null,
   "id": "8f4d00c6",
   "metadata": {},
   "outputs": [],
   "source": [
    "print(lp.toAllNeq().show())"
   ]
  },
  {
   "cell_type": "markdown",
   "id": "4b31e464",
   "metadata": {},
   "source": [
    "#### [LP to flopt](https://flopt.readthedocs.io/en/latest/tutorial/convert/lp.html#lp-to-flopt)"
   ]
  },
  {
   "cell_type": "code",
   "execution_count": null,
   "id": "2e505947",
   "metadata": {},
   "outputs": [],
   "source": [
    "# make Lp model\n",
    "c = [1, 1, 1]\n",
    "C = 2\n",
    "A = [[1, 0, 1],\n",
    "     [1, -1, 0]]\n",
    "b = [2, 3]\n",
    "lb = [1, 1, 0]\n",
    "ub = [2, 3, 1]\n",
    "var_types=[\"Binary\", \"Continuous\", \"Continuous\"]\n",
    "\n",
    "from flopt.convert import LpStructure\n",
    "prob = LpStructure(c, C, A=A, b=b, lb=lb, ub=ub, types=var_types).toFlopt()\n",
    "\n",
    "prob.show()"
   ]
  },
  {
   "cell_type": "markdown",
   "id": "be6a25b9",
   "metadata": {},
   "source": [
    "### [Ising](https://flopt.readthedocs.io/en/latest/tutorial/convert/ising.html)"
   ]
  },
  {
   "cell_type": "code",
   "execution_count": null,
   "id": "96ae1b25",
   "metadata": {},
   "outputs": [],
   "source": [
    "import flopt\n",
    "\n",
    "# Variables\n",
    "a = flopt.Variable('a', cat='Spin')\n",
    "b = flopt.Variable('b', cat='Spin')\n",
    "\n",
    "# Problem\n",
    "prob = flopt.Problem()\n",
    "prob += 1 - a * b - a\n",
    "\n",
    "print(prob)"
   ]
  },
  {
   "cell_type": "markdown",
   "id": "9e9b1951",
   "metadata": {},
   "source": [
    "#### [flopt to Ising](https://flopt.readthedocs.io/en/latest/tutorial/convert/ising.html#flopt-to-ising)"
   ]
  },
  {
   "cell_type": "code",
   "execution_count": null,
   "id": "61aacab7",
   "metadata": {},
   "outputs": [],
   "source": [
    "import flopt\n",
    "\n",
    "# Variables\n",
    "a = flopt.Variable('a', cat='Spin')\n",
    "b = flopt.Variable('b', cat='Binary') # Binary variable\n",
    "\n",
    "# Problem\n",
    "prob = flopt.Problem()\n",
    "prob += 1 - a * b - a\n",
    "\n",
    "print(prob)"
   ]
  },
  {
   "cell_type": "code",
   "execution_count": null,
   "id": "45eae105",
   "metadata": {},
   "outputs": [],
   "source": [
    "from flopt.convert import IsingStructure\n",
    "ising = IsingStructure.fromFlopt(prob)\n",
    "\n",
    "print(ising.show())"
   ]
  },
  {
   "cell_type": "markdown",
   "id": "bce33723",
   "metadata": {},
   "source": [
    "#### [Convert to QUBO](https://flopt.readthedocs.io/en/latest/tutorial/convert/ising.html#convert-to-qubo)"
   ]
  },
  {
   "cell_type": "code",
   "execution_count": null,
   "id": "522dbb5d",
   "metadata": {},
   "outputs": [],
   "source": [
    "ising.toQubo()    # convert ising to QUBO\n",
    "\n",
    "print(ising.toQubo().toFlopt().show())  # for show cleary ising.toQubo()"
   ]
  },
  {
   "cell_type": "code",
   "execution_count": null,
   "id": "537c14ea",
   "metadata": {},
   "outputs": [],
   "source": [
    "flopt.allAvailableSolvers(prob)"
   ]
  },
  {
   "cell_type": "markdown",
   "id": "534bf901",
   "metadata": {},
   "source": [
    "#### [Ising to flopt](https://flopt.readthedocs.io/en/latest/tutorial/convert/ising.html#ising-to-flopt)"
   ]
  },
  {
   "cell_type": "code",
   "execution_count": null,
   "id": "73eae45e",
   "metadata": {},
   "outputs": [],
   "source": [
    "# make ising model\n",
    "J = [[0, 1],\n",
    "     [0, 0]]\n",
    "h = [1, 0]\n",
    "C = 1\n",
    "\n",
    "from flopt.convert import IsingStructure\n",
    "prob = IsingStructure(J, h, C).toFlopt()\n",
    "\n",
    "prob.show()"
   ]
  },
  {
   "cell_type": "markdown",
   "id": "28894608",
   "metadata": {},
   "source": [
    "### [Quadratic Unconstrainted Binary Programming (QUBO)](https://flopt.readthedocs.io/en/latest/tutorial/convert/qubo.html)"
   ]
  },
  {
   "cell_type": "code",
   "execution_count": null,
   "id": "e5f039bb",
   "metadata": {},
   "outputs": [],
   "source": [
    "import flopt\n",
    "\n",
    "# Variables\n",
    "a = flopt.Variable('a', cat='Binary')\n",
    "b = flopt.Variable('b', cat='Binary')\n",
    "\n",
    "# Problem\n",
    "prob = flopt.Problem()\n",
    "prob += 1 - a * b - a\n",
    "\n",
    "print(prob)"
   ]
  },
  {
   "cell_type": "markdown",
   "id": "52219584",
   "metadata": {},
   "source": [
    "#### [flopt to QUBO](https://flopt.readthedocs.io/en/latest/tutorial/convert/qubo.html#flopt-to-qubo)"
   ]
  },
  {
   "cell_type": "code",
   "execution_count": null,
   "id": "f4a46089",
   "metadata": {},
   "outputs": [],
   "source": [
    "from flopt.convert import QuboStructure\n",
    "qubo = QuboStructure.fromFlopt(prob)\n",
    "\n",
    "print(qubo.show())"
   ]
  },
  {
   "cell_type": "markdown",
   "id": "320ec9c5",
   "metadata": {},
   "source": [
    "#### [QUBO to flopt](https://flopt.readthedocs.io/en/latest/tutorial/convert/qubo.html#qubo-to-flopt)"
   ]
  },
  {
   "cell_type": "code",
   "execution_count": null,
   "id": "7cef8a46",
   "metadata": {},
   "outputs": [],
   "source": [
    "# make ising\n",
    "Q = [[-1, -1],\n",
    "     [0, 0]]\n",
    "C = 1.0\n",
    "\n",
    "from flopt.convert import QuboStructure\n",
    "prob = QuboStructure(Q, C).toFlopt()\n",
    "\n",
    "print(prob)"
   ]
  },
  {
   "cell_type": "markdown",
   "id": "4e9b8cc6",
   "metadata": {},
   "source": [
    "```\n",
    "minimize  a * b * c + 2\n",
    "s.t.      a * b == 2\n",
    "          0 <= a <= 1, a is integer\n",
    "          1 <= b <= 2, b is continuous\n",
    "          1 <= c <= 3, c is continuous\n",
    " ```"
   ]
  },
  {
   "cell_type": "code",
   "execution_count": null,
   "id": "0519e5cd",
   "metadata": {},
   "outputs": [],
   "source": [
    "a = flopt.Variable(name=\"a\", lowBound=0, upBound=1, cat=\"Integer\")\n",
    "b = flopt.Variable(name=\"b\", lowBound=1, upBound=2, cat=\"Continuous\")\n",
    "c = flopt.Variable(name=\"c\", lowBound=1, upBound=3, cat=\"Continuous\")"
   ]
  },
  {
   "cell_type": "code",
   "execution_count": null,
   "id": "1c4e2153",
   "metadata": {},
   "outputs": [],
   "source": [
    "prob = flopt.Problem()\n",
    "prob += a * b * c + 2\n",
    "prob += a * c == 2\n",
    "prob.show()"
   ]
  },
  {
   "cell_type": "markdown",
   "id": "8fa40207",
   "metadata": {},
   "source": [
    "# docstrings"
   ]
  },
  {
   "cell_type": "markdown",
   "id": "4468911a",
   "metadata": {},
   "source": [
    "## Solvers"
   ]
  },
  {
   "cell_type": "markdown",
   "id": "407bcb79",
   "metadata": {},
   "source": [
    "### ScipySearch"
   ]
  },
  {
   "cell_type": "code",
   "execution_count": null,
   "id": "66ad907d",
   "metadata": {},
   "outputs": [],
   "source": [
    "import flopt\n",
    "\n",
    "# Variables\n",
    "a = flopt.Variable(\"a\", lowBound=-2, upBound=1, cat=\"Integer\")\n",
    "b = flopt.Variable(\"b\", lowBound=1, upBound=4, cat=\"Continuous\")\n",
    "c = flopt.Variable(\"c\", lowBound=0, upBound=3, cat=\"Continuous\")\n",
    "\n",
    "# Problem\n",
    "prob = flopt.Problem()\n",
    "prob += a*a + a*b + b + c + 2\n",
    "prob += a + b >= 2\n",
    "prob += b - c == 3\n",
    "\n",
    "prob.solve(solver=\"Scipy\", msg=True)\n",
    "\n",
    "print(flopt.Value([a, b, c]))"
   ]
  },
  {
   "cell_type": "markdown",
   "id": "a632bbf3",
   "metadata": {},
   "source": [
    "### PulpSearch"
   ]
  },
  {
   "cell_type": "code",
   "execution_count": null,
   "id": "697a53e8",
   "metadata": {},
   "outputs": [],
   "source": [
    "import flopt\n",
    "\n",
    "# Variables\n",
    "a = flopt.Variable(\"a\", lowBound=0, upBound=1, cat=\"Integer\")\n",
    "b = flopt.Variable(\"b\", lowBound=1, upBound=2, cat=\"Continuous\")\n",
    "c = flopt.Variable(\"c\", lowBound=-1, upBound=3, cat=\"Continuous\")\n",
    "\n",
    "# Problem\n",
    "prob = flopt.Problem()\n",
    "prob += a + b + c + 2\n",
    "prob += a + b >= 2\n",
    "prob += b - c >= 3\n",
    "\n",
    "prob.solve(solver=\"Pulp\", msg=True)"
   ]
  },
  {
   "cell_type": "code",
   "execution_count": null,
   "id": "51d0c027",
   "metadata": {},
   "outputs": [],
   "source": [
    "solver = flopt.Solver(\"Pulp\")\n",
    "\n",
    "import pulp\n",
    "glpk_solver = pulp.GLPK_CMD()\n",
    "solver.setParams(solver=glpk_solver)\n",
    "prob.solve(solver, msg=True)"
   ]
  },
  {
   "cell_type": "markdown",
   "id": "24262239",
   "metadata": {},
   "source": [
    "### ScipyMilpSearch"
   ]
  },
  {
   "cell_type": "code",
   "execution_count": null,
   "id": "11ad2d3a",
   "metadata": {},
   "outputs": [],
   "source": [
    "import flopt\n",
    "\n",
    "# Variables\n",
    "a = flopt.Variable(\"a\", lowBound=0, upBound=1, cat=\"Integer\")\n",
    "b = flopt.Variable(\"b\", lowBound=1, upBound=2, cat=\"Continuous\")\n",
    "c = flopt.Variable(\"c\", lowBound=-1, upBound=3, cat=\"Continuous\")\n",
    "\n",
    "# Problem\n",
    "prob = flopt.Problem()\n",
    "prob += a + b + c + 2\n",
    "prob += a + b >= 2\n",
    "prob += b - c >= 3\n",
    "\n",
    "prob.solve(solver=\"ScipyMilp\", msg=True)"
   ]
  },
  {
   "cell_type": "markdown",
   "id": "63b4b092",
   "metadata": {},
   "source": [
    "### CvxoptSearch"
   ]
  },
  {
   "cell_type": "code",
   "execution_count": null,
   "id": "ecadc025",
   "metadata": {},
   "outputs": [],
   "source": [
    "import flopt\n",
    "\n",
    "x = flopt.Variable(\"x\", lowBound=-1, upBound=1, cat=\"Continuous\")\n",
    "y = flopt.Variable(\"y\", lowBound=-1, upBound=1, cat=\"Continuous\")\n",
    "\n",
    "prob = flopt.Problem()\n",
    "prob += 2*x*x + x*y + y*y + x + y\n",
    "prob += x >= 0\n",
    "prob += y >= 0\n",
    "prob += x + y == 1\n",
    "\n",
    "status, log = prob.solve(solver=\"CvxoptQp\", msg=True)\n",
    "\n",
    "print(\"obj =\", flopt.Value(prob.obj))\n",
    "print(\"x =\", flopt.Value(x))\n",
    "print(\"y =\", flopt.Value(y))"
   ]
  },
  {
   "cell_type": "markdown",
   "id": "9e59e94f",
   "metadata": {},
   "source": [
    "### OptunaCmaEsSearch, OptunaTPESearch, HyperoptSearch, SFLA, RandomSearch"
   ]
  },
  {
   "cell_type": "code",
   "execution_count": null,
   "id": "f4be2c8b",
   "metadata": {},
   "outputs": [],
   "source": [
    "import flopt\n",
    "\n",
    "x = flopt.Variable(\"x\", lowBound=-1, upBound=1, cat=\"Continuous\")\n",
    "y = flopt.Variable(\"y\", lowBound=-1, upBound=1, cat=\"Continuous\")\n",
    "\n",
    "prob = flopt.Problem()\n",
    "prob += 2*x*x + x*y + y*y + x + y\n",
    "\n",
    "status, log = prob.solve(solver=\"OptunaCmaEs\", msg=True, timelimit=1)\n",
    "\n",
    "print(\"obj =\", flopt.Value(prob.obj))\n",
    "print(\"x =\", flopt.Value(x))\n",
    "print(\"y =\", flopt.Value(y))"
   ]
  },
  {
   "cell_type": "code",
   "execution_count": null,
   "id": "31529863",
   "metadata": {},
   "outputs": [],
   "source": [
    "import flopt\n",
    "\n",
    "x = flopt.Variable(\"x\", lowBound=-1, upBound=1, cat=\"Continuous\")\n",
    "y = flopt.Variable(\"y\", lowBound=-1, upBound=1, cat=\"Continuous\")\n",
    "\n",
    "prob = flopt.Problem()\n",
    "prob += 2*x*x + x*y + y*y + x + y\n",
    "\n",
    "status, log = prob.solve(solver=\"OptunaTPE\", msg=True, timelimit=1)\n",
    "\n",
    "print(\"obj =\", flopt.Value(prob.obj))\n",
    "print(\"x =\", flopt.Value(x))\n",
    "print(\"y =\", flopt.Value(y))"
   ]
  },
  {
   "cell_type": "code",
   "execution_count": null,
   "id": "e04a429c",
   "metadata": {},
   "outputs": [],
   "source": [
    "import flopt\n",
    "\n",
    "x = flopt.Variable(\"x\", lowBound=-1, upBound=1, cat=\"Continuous\")\n",
    "y = flopt.Variable(\"y\", lowBound=-1, upBound=1, cat=\"Continuous\")\n",
    "\n",
    "prob = flopt.Problem()\n",
    "prob += 2*x*x + x*y + y*y + x + y\n",
    "\n",
    "status, log = prob.solve(solver=\"Hyperopt\", msg=True, timelimit=1)\n",
    "\n",
    "print(\"obj =\", flopt.Value(prob.obj))\n",
    "print(\"x =\", flopt.Value(x))\n",
    "print(\"y =\", flopt.Value(y))"
   ]
  },
  {
   "cell_type": "code",
   "execution_count": null,
   "id": "0b9aadaa",
   "metadata": {},
   "outputs": [],
   "source": [
    "import flopt\n",
    "\n",
    "x = flopt.Variable(\"x\", lowBound=-1, upBound=1, cat=\"Continuous\")\n",
    "y = flopt.Variable(\"y\", lowBound=-1, upBound=1, cat=\"Continuous\")\n",
    "\n",
    "prob = flopt.Problem()\n",
    "prob += 2*x*x + x*y + y*y + x + y\n",
    "\n",
    "status, log = prob.solve(solver=\"SFLA\", msg=True, timelimit=1)\n",
    "\n",
    "print(\"obj =\", flopt.Value(prob.obj))\n",
    "print(\"x =\", flopt.Value(x))\n",
    "print(\"y =\", flopt.Value(y))"
   ]
  },
  {
   "cell_type": "code",
   "execution_count": null,
   "id": "e4ef801b",
   "metadata": {},
   "outputs": [],
   "source": [
    "import flopt\n",
    "\n",
    "x = flopt.Variable(\"x\", lowBound=1, upBound=1, cat=\"Continuous\")\n",
    "y = flopt.Variable(\"y\", lowBound=-1, upBound=1, cat=\"Continuous\")\n",
    "\n",
    "prob = flopt.Problem()\n",
    "prob += 2*x*x + x*y + y*y + x + y\n",
    "\n",
    "status, log = prob.solve(solver=\"Random\", msg=True, timelimit=1)\n",
    "\n",
    "print(\"obj =\", flopt.Value(prob.obj))\n",
    "print(\"x =\", flopt.Value(x))\n",
    "print(\"y =\", flopt.Value(y))"
   ]
  },
  {
   "cell_type": "markdown",
   "id": "cbb37b50",
   "metadata": {},
   "source": [
    "### AutoSearch"
   ]
  },
  {
   "cell_type": "code",
   "execution_count": null,
   "id": "37172e03",
   "metadata": {},
   "outputs": [],
   "source": [
    "import flopt\n",
    "\n",
    "# Variables\n",
    "a = flopt.Variable(\"a\", lowBound=0, upBound=1, cat=\"Integer\")\n",
    "b = flopt.Variable(\"b\", lowBound=1, upBound=2, cat=\"Continuous\")\n",
    "c = flopt.Variable(\"c\", lowBound=1, upBound=3, cat=\"Continuous\")\n",
    "\n",
    "prob = flopt.Problem(name=\"Test\")\n",
    "prob += 2*(3*a+b)*c**2+3"
   ]
  },
  {
   "cell_type": "code",
   "execution_count": null,
   "id": "61ca78fa",
   "metadata": {},
   "outputs": [],
   "source": [
    "prob.solve(solver=\"auto\", timelimit=10, msg=True)"
   ]
  },
  {
   "cell_type": "code",
   "execution_count": null,
   "id": "c4fc151b",
   "metadata": {},
   "outputs": [],
   "source": [
    "solver = flopt.Solver(algo=\"auto\")\n",
    "solver.setParams({\"timelimit\": 10})\n",
    "solver = solver.select(prob)\n",
    "print(solver.name)"
   ]
  },
  {
   "cell_type": "markdown",
   "id": "94a68805",
   "metadata": {},
   "source": [
    "# Case study"
   ]
  },
  {
   "cell_type": "markdown",
   "id": "eed0eafa",
   "metadata": {},
   "source": [
    "## newton's method"
   ]
  },
  {
   "cell_type": "code",
   "execution_count": null,
   "id": "1623bed9",
   "metadata": {
    "scrolled": true
   },
   "outputs": [],
   "source": [
    "import flopt\n",
    "from flopt import Value\n",
    "\n",
    "# define variable with initial value\n",
    "x = flopt.Variable(\"x\", ini_value=5)\n",
    "\n",
    "# define f\n",
    "f = x * x - 2\n",
    "\n",
    "# obtain jacobian function\n",
    "jac = f.jac([x])\n",
    "\n",
    "for roop in range(10):\n",
    "    # update x\n",
    "    x.setValue( (x - f / jac).value() )\n",
    "    print(f'roop {roop:<4d} x = {x.value()}')"
   ]
  },
  {
   "cell_type": "code",
   "execution_count": null,
   "id": "f8246b00",
   "metadata": {},
   "outputs": [],
   "source": [
    "import flopt\n",
    "from flopt import Value\n",
    "\n",
    "# define f\n",
    "def f(x):\n",
    "    return x * x - 2\n",
    "\n",
    "# define variable with initial value\n",
    "x = flopt.Variable(\"x\", ini_value=5)\n",
    "\n",
    "# obtain jacobian function\n",
    "jac = f(x).jac([x])\n",
    "\n",
    "for roop in range(10):\n",
    "    # update xk\n",
    "    x.setValue( (x - f(x) / jac).value() )\n",
    "    print(f'roop {roop:<4d} x = {x.value()}')"
   ]
  },
  {
   "cell_type": "code",
   "execution_count": null,
   "id": "5fc5493d",
   "metadata": {},
   "outputs": [],
   "source": []
  }
 ],
 "metadata": {
  "kernelspec": {
   "display_name": "Python 3 (ipykernel)",
   "language": "python",
   "name": "python3"
  },
  "language_info": {
   "codemirror_mode": {
    "name": "ipython",
    "version": 3
   },
   "file_extension": ".py",
   "mimetype": "text/x-python",
   "name": "python",
   "nbconvert_exporter": "python",
   "pygments_lexer": "ipython3",
   "version": "3.10.5"
  },
  "toc": {
   "base_numbering": 1,
   "nav_menu": {},
   "number_sections": true,
   "sideBar": true,
   "skip_h1_title": false,
   "title_cell": "Table of Contents",
   "title_sidebar": "Contents",
   "toc_cell": false,
   "toc_position": {
    "height": "calc(100% - 180px)",
    "left": "10px",
    "top": "150px",
    "width": "198px"
   },
   "toc_section_display": true,
   "toc_window_display": true
  }
 },
 "nbformat": 4,
 "nbformat_minor": 5
}
